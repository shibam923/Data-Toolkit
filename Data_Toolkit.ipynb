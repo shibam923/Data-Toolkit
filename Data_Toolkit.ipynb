{
  "nbformat": 4,
  "nbformat_minor": 0,
  "metadata": {
    "colab": {
      "provenance": []
    },
    "kernelspec": {
      "name": "python3",
      "display_name": "Python 3"
    },
    "language_info": {
      "name": "python"
    }
  },
  "cells": [
    {
      "cell_type": "markdown",
      "source": [
        "# Data Toolkit"
      ],
      "metadata": {
        "id": "drCK-ZBjll6L"
      }
    },
    {
      "cell_type": "markdown",
      "source": [
        "Q1.  What is NumPy, and why is it widely used in Python?\n",
        "\n",
        " -> **NumPy** (short for **Numerical Python**) is an open-source Python library used for **scientific computing**. It provides powerful tools for working with large arrays and matrices of numeric data, along with a large collection of high-level mathematical functions to operate on these arrays.\n",
        "\n",
        "---\n",
        "\n",
        "### 🔹 Why NumPy is Widely Used\n",
        "\n",
        "1. **Efficient Array Operations**\n",
        "\n",
        "   * NumPy uses **ndarray**, a highly optimized array structure that supports fast vectorized operations.\n",
        "   * It is significantly faster than Python’s native lists, especially for large data sets.\n",
        "\n",
        "2. **Vectorization**\n",
        "\n",
        "   * Operations on arrays can be performed without explicit loops, which leads to cleaner and faster code.\n",
        "\n",
        "3. **Broadcasting**\n",
        "\n",
        "   * Allows arithmetic operations on arrays of different shapes in a flexible way, avoiding manual looping.\n",
        "\n",
        "4. **Integration with Other Libraries**\n",
        "\n",
        "   * Libraries like **Pandas**, **SciPy**, **scikit-learn**, **TensorFlow**, and **PyTorch** rely on NumPy arrays.\n",
        "\n",
        "5. **Multidimensional Arrays**\n",
        "\n",
        "   * You can easily create and manipulate multi-dimensional arrays (1D, 2D, 3D, etc.).\n",
        "\n",
        "6. **Mathematical and Statistical Functions**\n",
        "\n",
        "   * Includes a comprehensive set of functions like linear algebra, Fourier transforms, random number generation, and more.\n",
        "\n",
        "7. **Interfacing with C/C++**\n",
        "\n",
        "   * Useful when you need to interface Python code with C/C++ for performance-critical tasks.\n",
        "\n",
        "---\n",
        "\n",
        "### 🔹 Example\n",
        "\n",
        "```python\n",
        "import numpy as np\n",
        "\n",
        "# Create a 1D array\n",
        "a = np.array([1, 2, 3, 4])\n",
        "\n",
        "# Vectorized operation\n",
        "b = a * 2\n",
        "\n",
        "print(b)  # Output: [2 4 6 8]\n",
        "```\n",
        "\n",
        "---\n"
      ],
      "metadata": {
        "id": "LXAZ9nYdluoe"
      }
    },
    {
      "cell_type": "markdown",
      "source": [
        "Q2.  How does broadcasting work in NumPy?\n",
        "\n",
        "-> **Broadcasting** in **NumPy** is a powerful feature that allows arithmetic operations on arrays of **different shapes and sizes** without explicitly reshaping or replicating data. It simplifies code and improves performance by avoiding unnecessary memory duplication.\n",
        "\n",
        "---\n",
        "\n",
        "### 🔹 How Broadcasting Works\n",
        "\n",
        "Broadcasting follows specific **rules** to determine whether two arrays are compatible for element-wise operations.\n",
        "\n",
        "---\n",
        "\n",
        "### ✅ **Broadcasting Rules**\n",
        "\n",
        "When operating on two arrays, NumPy compares their **shapes element-wise**, starting from the **trailing dimensions** (right to left):\n",
        "\n",
        "1. If the dimensions are **equal**, or\n",
        "2. If one of the dimensions is **1**,\n",
        "   → Then the arrays are compatible in that dimension.\n",
        "\n",
        "If the shapes are not compatible, NumPy will **raise a `ValueError`**.\n",
        "\n",
        "---\n",
        "\n",
        "### 🔹 Example 1: Simple Scalar Broadcasting\n",
        "\n",
        "```python\n",
        "import numpy as np\n",
        "\n",
        "a = np.array([1, 2, 3])\n",
        "b = 2\n",
        "\n",
        "print(a + b)  # Output: [3 4 5]\n",
        "```\n",
        "\n",
        "Here, `b` is a scalar and is **broadcasted** to match the shape of `a`.\n",
        "\n",
        "---\n",
        "\n",
        "### 🔹 Example 2: 2D and 1D Arrays\n",
        "\n",
        "```python\n",
        "a = np.array([[1, 2, 3],\n",
        "              [4, 5, 6]])\n",
        "\n",
        "b = np.array([10, 20, 30])\n",
        "\n",
        "print(a + b)\n",
        "```\n",
        "\n",
        "**Shapes**:\n",
        "\n",
        "* `a`: (2, 3)\n",
        "* `b`: (3,) → broadcasted to (1, 3), then matched across first dimension → result: (2, 3)\n",
        "\n",
        "**Output**:\n",
        "\n",
        "```\n",
        "[[11 22 33]\n",
        " [14 25 36]]\n",
        "```\n",
        "\n",
        "---\n",
        "\n",
        "### 🔹 Example 3: Mismatched Shapes That Can’t Be Broadcast\n",
        "\n",
        "```python\n",
        "a = np.array([[1, 2, 3],\n",
        "              [4, 5, 6]])\n",
        "\n",
        "b = np.array([10, 20])  # Shape (2,)\n",
        "\n",
        "# This will raise an error\n",
        "# print(a + b)\n",
        "```\n",
        "\n",
        "Shapes: `(2, 3)` and `(2,)` → **Not compatible**, because 3 ≠ 2 in the last dimension.\n",
        "\n",
        "---\n",
        "\n",
        "### 🔸 Summary of Broadcasting Benefits\n",
        "\n",
        "* Removes the need for manually reshaping or looping.\n",
        "* Leads to **faster execution** (avoids memory replication).\n",
        "* Makes code **cleaner** and more **readable**.\n",
        "\n",
        "---\n"
      ],
      "metadata": {
        "id": "CD0pnWsama0_"
      }
    },
    {
      "cell_type": "markdown",
      "source": [
        "Q3. What is a Pandas DataFrame?\n",
        "\n",
        "-> A Pandas DataFrame is a 2-dimensional, labeled data structure in Python that resembles a table or spreadsheet. It is one of the core data structures in the Pandas library, widely used for data manipulation, analysis, and cleaning."
      ],
      "metadata": {
        "id": "PYmI-KxUnF-Z"
      }
    },
    {
      "cell_type": "markdown",
      "source": [
        "Q4. Explain the use of the groupby() method in Pandas.\n",
        "\n",
        "-> The .groupby() method in Pandas is used to split data into groups based on some criteria, apply a function to each group, and then combine the results. This is often referred to as the \"split-apply-combine\" strategy, and it's extremely useful for data analysis and summarization."
      ],
      "metadata": {
        "id": "jhGnJi0cnfS9"
      }
    },
    {
      "cell_type": "markdown",
      "source": [
        "Q5. Why is Seaborn preferred for statistical visualizations?\n",
        "\n",
        "-> Seaborn is preferred for statistical visualizations in Python because it is specifically designed to make complex statistical plots easier to create, more informative, and visually appealing—with much less code than other libraries like Matplotlib."
      ],
      "metadata": {
        "id": "7h9Ke018oBU8"
      }
    },
    {
      "cell_type": "markdown",
      "source": [
        "Q6. What are the differences between NumPy arrays and Python lists?\n",
        "\n",
        "-> Great question! While **NumPy arrays** and **Python lists** may look similar at first glance, they are fundamentally different in how they work and what they’re designed for.\n",
        "\n",
        "---\n",
        "\n",
        "### 🔹 Key Differences Between NumPy Arrays and Python Lists\n",
        "\n",
        "| Feature              | NumPy Arrays (`np.array`)                            | Python Lists (`list`)                                  |\n",
        "| -------------------- | ---------------------------------------------------- | ------------------------------------------------------ |\n",
        "| **Data Type**        | Homogeneous (all elements must be of the same type)  | Heterogeneous (can store different types)              |\n",
        "| **Performance**      | Much faster and more memory-efficient                | Slower, especially for numerical operations            |\n",
        "| **Functionality**    | Supports advanced mathematical and vector operations | Basic operations only (no math or broadcasting)        |\n",
        "| **Memory Usage**     | Stored in contiguous memory (C-style arrays)         | Stored as pointers to objects (more overhead)          |\n",
        "| **Dimensionality**   | Supports multi-dimensional arrays (1D, 2D, 3D, etc.) | Supports nested lists, but not efficient or consistent |\n",
        "| **Broadcasting**     | Yes (automatic shape alignment for math operations)  | No broadcasting; must loop manually                    |\n",
        "| **Element-wise Ops** | Yes (e.g., `a + 5` adds 5 to every element)          | No; need list comprehensions or loops                  |\n",
        "\n",
        "---\n",
        "\n",
        "### 🔹 Example Comparison\n",
        "\n",
        "#### ✅ NumPy Array\n",
        "\n",
        "```python\n",
        "import numpy as np\n",
        "\n",
        "a = np.array([1, 2, 3])\n",
        "print(a * 2)  # Output: [2 4 6]\n",
        "```\n",
        "\n",
        "#### ❌ Python List\n",
        "\n",
        "```python\n",
        "b = [1, 2, 3]\n",
        "print(b * 2)  # Output: [1, 2, 3, 1, 2, 3] (list repetition, not element-wise multiplication)\n",
        "```\n",
        "\n",
        "\n",
        "---\n",
        "\n",
        "### 🔸 Summary\n",
        "\n",
        "| Use **NumPy arrays** when:              | Use **Python lists** when:              |\n",
        "| --------------------------------------- | --------------------------------------- |\n",
        "| You need **fast numerical computation** | You have **mixed data types**           |\n",
        "| You work with **large data sets**       | You want **general-purpose containers** |\n",
        "| You need **matrix or vector math**      | You’re doing simple list manipulations  |\n",
        "\n",
        "---"
      ],
      "metadata": {
        "id": "w4THpVjmoPK1"
      }
    },
    {
      "cell_type": "markdown",
      "source": [
        "Q7. What is a heatmap, and when should it be used?\n",
        "\n",
        "-> A heatmap is a data visualization technique that uses color to represent the values of a matrix or a two-dimensional dataset. It provides a way to visualize complex data in a more intuitive manner, allowing viewers to quickly identify patterns, trends, and anomalies.\n",
        "\n",
        "### Key Features of Heatmaps:\n",
        "1. **Color Coding**: Different colors represent different values, with a gradient often used to indicate the magnitude of the values. For example, warmer colors (like red) might indicate higher values, while cooler colors (like blue) indicate lower values.\n",
        "2. **Matrix Representation**: Heatmaps are typically used to represent data in a grid format, where each cell corresponds to a specific value in the dataset.\n",
        "3. **Interactivity**: Many modern heatmaps are interactive, allowing users to hover over or click on cells to get more detailed information.\n",
        "\n",
        "### When to Use Heatmaps:\n",
        "1. **Correlation Analysis**: Heatmaps are often used in statistics to visualize the correlation matrix between multiple variables, making it easy to identify strong or weak correlations.\n",
        "2. **Geospatial Data**: In geographic information systems (GIS), heatmaps can represent the density of events or values across a geographical area, such as crime rates or population density.\n",
        "3. **User  Behavior Analysis**: In web analytics, heatmaps can show where users click on a webpage, helping to identify areas of interest or confusion.\n",
        "4. **Biological Data**: In bioinformatics, heatmaps are commonly used to visualize gene expression data, where rows might represent genes and columns represent different conditions or samples.\n",
        "5. **Performance Metrics**: In business, heatmaps can visualize performance metrics across different categories, such as sales by region or product.\n"
      ],
      "metadata": {
        "id": "NUSvIUedotOj"
      }
    },
    {
      "cell_type": "markdown",
      "source": [
        "Q8.  What does the term “vectorized operation” mean in NumPy?\n",
        "\n",
        "-> In NumPy, the term \"vectorized operation\" refers to the ability to perform operations on entire arrays (or large datasets) at once, rather than using explicit loops to iterate through individual elements. This approach leverages the underlying C and Fortran libraries that NumPy is built upon, allowing for more efficient computation."
      ],
      "metadata": {
        "id": "hl5edZ-UpwQ2"
      }
    },
    {
      "cell_type": "markdown",
      "source": [
        "Q9.  How does Matplotlib differ from Plotly?\n",
        "\n",
        "-> Matplotlib is primarily used for creating static heatmaps with extensive customization options, making it suitable for detailed visualizations. In contrast, Plotly excels in generating interactive heatmaps that allow users to explore data dynamically, enhancing user engagement and analysis.\n",
        "\n",
        "### Key Differences Between Matplotlib and Plotly:\n",
        "\n",
        "1. **Interactivity**:\n",
        "   - **Matplotlib**: Primarily designed for static visualizations. While it can create interactive plots to some extent, its main strength lies in producing high-quality static images.\n",
        "   - **Plotly**: Built for interactivity, allowing users to hover, zoom, and pan through visualizations. This makes it ideal for exploratory data analysis.\n",
        "\n",
        "2. **Ease of Use**:\n",
        "   - **Matplotlib**: Offers extensive customization options, but this can lead to more complex code. Users often need to manage figure and axis objects explicitly.\n",
        "   - **Plotly**: Provides a more user-friendly API that simplifies the creation of interactive plots. It often requires less code to achieve similar results compared to Matplotlib.\n",
        "\n",
        "3. **Output Formats**:\n",
        "   - **Matplotlib**: Supports a wide range of output formats, including PNG, PDF, SVG, and more, making it suitable for publication-quality graphics.\n",
        "   - **Plotly**: Primarily outputs HTML files for interactive visualizations, which can be embedded in web applications. It also supports static image exports.\n",
        "\n",
        "4. **Customization**:\n",
        "   - **Matplotlib**: Highly customizable, allowing detailed control over every aspect of the plot, including colors, styles, and annotations.\n",
        "   - **Plotly**: While it offers customization options, the focus is more on interactivity and ease of use rather than granular control over every plot element.\n",
        "\n",
        "5. **Use Cases**:\n",
        "   - **Matplotlib**: Best suited for creating detailed, publication-ready static visualizations, such as scientific plots and complex figures.\n",
        "   - **Plotly**: Ideal for dashboards, web applications, and presentations where interactivity enhances the user experience and data exploration.\n"
      ],
      "metadata": {
        "id": "T_QFz4C_qLFY"
      }
    },
    {
      "cell_type": "markdown",
      "source": [
        "Q10. What is the significance of hierarchical indexing in Pandas?\n",
        "\n",
        "-> Hierarchical indexing, also known as multi-level indexing, is a powerful feature in Pandas that allows you to work with data that has multiple dimensions or levels of indexing. This feature is particularly useful for organizing and analyzing complex datasets that can be represented in a more structured way.\n",
        "\n",
        "### Significance of Hierarchical Indexing in Pandas:\n",
        "\n",
        "1. **Multi-dimensional Data Representation**:\n",
        "   - Hierarchical indexing enables you to represent data in a multi-dimensional format, making it easier to work with datasets that have multiple levels of categorization. For example, you can have a DataFrame indexed by both \"Country\" and \"City,\" allowing for more granular data analysis.\n",
        "\n",
        "2. **Enhanced Data Organization**:\n",
        "   - It allows for better organization of data, making it easier to group and aggregate data based on multiple criteria. This is particularly useful in scenarios where you need to analyze data across different categories or dimensions.\n",
        "\n",
        "3. **Simplified Data Manipulation**:\n",
        "   - Hierarchical indexing simplifies data manipulation tasks such as slicing, filtering, and aggregating. You can easily access subsets of data using a combination of index levels, which can lead to more intuitive and readable code.\n",
        "\n",
        "4. **Improved Grouping and Aggregation**:\n",
        "   - With hierarchical indexing, you can perform group-by operations on multiple levels of the index. This allows for more complex aggregations and analyses, such as calculating summary statistics for different groups within a dataset.\n",
        "\n",
        "5. **Facilitates Pivoting and Reshaping**:\n",
        "   - Hierarchical indexing makes it easier to pivot and reshape data. You can transform data from a long format to a wide format (and vice versa) while maintaining the relationships between different levels of the index.\n",
        "\n",
        "6. **Better Handling of Missing Data**:\n",
        "   - When working with multi-level indices, Pandas can handle missing data more effectively. You can easily identify and fill missing values at different levels of the index.\n",
        "\n",
        "### Example of Hierarchical Indexing:\n",
        "\n",
        "Here’s a simple example to illustrate hierarchical indexing in a Pandas DataFrame:\n",
        "\n",
        "```python\n",
        "import pandas as pd\n",
        "\n",
        "# Create a sample DataFrame with hierarchical indexing\n",
        "data = {\n",
        "    'Sales': [200, 300, 400, 500],\n",
        "    'Profit': [50, 70, 90, 120]\n",
        "}\n",
        "\n",
        "index = pd.MultiIndex.from_tuples([\n",
        "    ('USA', 'New York'),\n",
        "    ('USA', 'Los Angeles'),\n",
        "    ('Canada', 'Toronto'),\n",
        "    ('Canada', 'Vancouver')\n",
        "], names=['Country', 'City'])\n",
        "\n",
        "df = pd.DataFrame(data, index=index)\n",
        "\n",
        "print(df)\n",
        "```\n",
        "\n",
        "This will produce:\n",
        "\n",
        "```\n",
        "                Sales  Profit\n",
        "Country City               \n",
        "USA     New York    200      50\n",
        "        Los Angeles  300      70\n",
        "Canada  Toronto      400      90\n",
        "        Vancouver    500     120\n",
        "```\n",
        "\n"
      ],
      "metadata": {
        "id": "LbZJNZVZqcs1"
      }
    },
    {
      "cell_type": "markdown",
      "source": [
        "Q11.  What is the role of Seaborn’s pairplot() function?\n",
        "\n",
        "-> Seaborn's `pairplot()` function is a powerful tool for visualizing relationships between multiple variables in a dataset. It creates a grid of scatter plots (or other types of plots) for each pair of variables, allowing for a comprehensive exploration of the data. Here are the key roles and features of the `pairplot()` function:\n",
        "\n",
        "### Key Roles of `pairplot()`:\n",
        "\n",
        "1. **Visualizing Pairwise Relationships**:\n",
        "   - The primary role of `pairplot()` is to visualize the pairwise relationships between all numerical variables in a DataFrame. This helps in understanding how different variables interact with each other.\n",
        "\n",
        "2. **Identifying Correlations**:\n",
        "   - By plotting scatter plots for each pair of variables, `pairplot()` allows you to quickly identify correlations and trends. You can see if there are linear or non-linear relationships between variables.\n",
        "\n",
        "3. **Understanding Distributions**:\n",
        "   - The diagonal of the pairplot can display the distribution of each variable (using histograms or kernel density estimates), providing insights into the distribution characteristics of individual variables.\n",
        "\n",
        "4. **Facilitating Group Comparisons**:\n",
        "   - `pairplot()` can also be used to color the points based on a categorical variable, allowing for easy comparison of how different groups behave across the various dimensions. This is particularly useful for identifying clusters or patterns within the data.\n",
        "\n",
        "5. **Exploratory Data Analysis (EDA)**:\n",
        "   - It serves as an essential tool in the exploratory data analysis phase, helping analysts and data scientists to quickly assess the relationships and distributions in their data before applying more complex modeling techniques.\n",
        "\n",
        "### Example of Using `pairplot()`:\n",
        "\n",
        "Here’s a simple example of how to use Seaborn's `pairplot()` function:\n",
        "\n",
        "```python\n",
        "import seaborn as sns\n",
        "import matplotlib.pyplot as plt\n",
        "\n",
        "# Load an example dataset\n",
        "iris = sns.load_dataset('iris')\n",
        "\n",
        "# Create a pairplot\n",
        "sns.pairplot(iris, hue='species')\n",
        "\n",
        "# Show the plot\n",
        "plt.show()\n",
        "```\n",
        "\n",
        "In this example, the `pairplot()` function will create a grid of scatter plots for each pair of features in the Iris dataset, with points colored according to the species of the iris flower. This allows for a visual comparison of how the different species relate to each other across the various features.\n",
        "\n"
      ],
      "metadata": {
        "id": "4aMmbUb8q8MD"
      }
    },
    {
      "cell_type": "markdown",
      "source": [
        "Q12.  What is the purpose of the describe() function in Pandas?\n",
        "\n",
        "-> The `describe()` function in Pandas is a powerful method used to generate descriptive statistics of a DataFrame or Series. It provides a quick overview of the central tendency, dispersion, and shape of the dataset's distribution, which is essential for exploratory data analysis (EDA).\n",
        "\n",
        "### Purpose of the `describe()` Function:\n",
        "\n",
        "1. **Summary Statistics**:\n",
        "   - The `describe()` function computes and returns summary statistics for each numerical column in a DataFrame. This includes metrics such as:\n",
        "     - **Count**: The number of non-null entries.\n",
        "     - **Mean**: The average value of the entries.\n",
        "     - **Standard Deviation (std)**: A measure of the amount of variation or dispersion of the entries.\n",
        "     - **Minimum (min)**: The smallest value in the column.\n",
        "     - **25th Percentile (25%)**: The value below which 25% of the data falls (first quartile).\n",
        "     - **50th Percentile (50%)**: The median value (second quartile).\n",
        "     - **75th Percentile (75%)**: The value below which 75% of the data falls (third quartile).\n",
        "     - **Maximum (max)**: The largest value in the column.\n",
        "\n",
        "2. **Data Overview**:\n",
        "   - It provides a quick overview of the dataset, helping analysts understand the distribution and range of values in each column. This is particularly useful for identifying potential outliers or anomalies.\n",
        "\n",
        "3. **Categorical Data Summary**:\n",
        "   - When applied to categorical data, `describe()` can also provide counts of unique values, the most frequent value (top), and the frequency of the most frequent value (freq).\n",
        "\n",
        "4. **Facilitating Data Cleaning**:\n",
        "   - By summarizing the data, `describe()` helps in identifying missing values and understanding the overall quality of the dataset, which is crucial for data cleaning and preprocessing.\n",
        "\n",
        "5. **Comparative Analysis**:\n",
        "   - It allows for quick comparisons between different columns in the dataset, making it easier to spot trends and relationships.\n"
      ],
      "metadata": {
        "id": "ujlwHAoLrO7t"
      }
    },
    {
      "cell_type": "markdown",
      "source": [
        "Q13. Why is handling missing data important in Pandas?\n",
        "\n",
        "-> Handling missing data is a crucial aspect of data analysis and preprocessing in Pandas (and data science in general) for several reasons:\n",
        "\n",
        "### Importance of Handling Missing Data:\n",
        "\n",
        "1. **Data Integrity**:\n",
        "   - Missing data can lead to inaccurate analyses and conclusions. If not handled properly, it can skew results, leading to misleading insights and poor decision-making.\n",
        "\n",
        "2. **Statistical Validity**:\n",
        "   - Many statistical methods and machine learning algorithms require complete datasets. Missing values can violate the assumptions of these methods, resulting in biased estimates or invalid predictions.\n",
        "\n",
        "3. **Improved Model Performance**:\n",
        "   - Properly handling missing data can enhance the performance of machine learning models. Models trained on complete and well-prepared datasets tend to generalize better to unseen data.\n",
        "\n",
        "4. **Data Quality**:\n",
        "   - Addressing missing values is essential for maintaining high data quality. It ensures that the dataset is reliable and can be trusted for analysis and reporting.\n",
        "\n",
        "5. **Exploratory Data Analysis (EDA)**:\n",
        "   - During EDA, understanding the pattern and extent of missing data can provide insights into the data collection process and the underlying phenomena. It can reveal potential biases or issues in the data.\n",
        "\n",
        "6. **Facilitating Data Cleaning**:\n",
        "   - Handling missing data is often a part of the broader data cleaning process. It helps in preparing the dataset for further analysis, ensuring that it is in a suitable format for exploration and modeling.\n",
        "\n",
        "### Common Strategies for Handling Missing Data in Pandas:\n",
        "\n",
        "1. **Removing Missing Values**:\n",
        "   - You can drop rows or columns with missing values using methods like `dropna()`. This is suitable when the amount of missing data is small and does not significantly impact the dataset.\n",
        "\n",
        "2. **Imputation**:\n",
        "   - Filling in missing values with appropriate substitutes, such as the mean, median, or mode of the column, can help retain data integrity. Pandas provides the `fillna()` method for this purpose.\n",
        "\n",
        "3. **Forward/Backward Fill**:\n",
        "   - For time series data, you can use forward fill (`ffill()`) or backward fill (`bfill()`) to propagate the next or previous valid observation to fill missing values.\n",
        "\n",
        "4. **Using Interpolation**:\n",
        "   - Interpolation methods can estimate missing values based on surrounding data points, which is particularly useful for continuous data.\n",
        "\n",
        "5. **Flagging Missing Values**:\n",
        "   - In some cases, it may be beneficial to create a new feature that indicates whether a value was missing. This can provide additional information to models.\n",
        "\n",
        "### Example of Handling Missing Data in Pandas:\n",
        "\n",
        "Here’s a simple example demonstrating how to handle missing data in a Pandas DataFrame:\n",
        "\n",
        "```python\n",
        "import pandas as pd\n",
        "import numpy as np\n",
        "\n",
        "# Create a sample DataFrame with missing values\n",
        "data = {\n",
        "    'A': [1, 2, np.nan, 4],\n",
        "    'B': [np.nan, 2, 3, 4],\n",
        "    'C': ['cat', 'dog', 'cat', 'dog']\n",
        "}\n",
        "\n",
        "df = pd.DataFrame(data)\n",
        "\n",
        "# Display the original DataFrame\n",
        "print(\"Original DataFrame:\")\n",
        "print(df)\n",
        "\n",
        "# Drop rows with any missing values\n",
        "df_dropped = df.dropna()\n",
        "print(\"\\nDataFrame after dropping missing values:\")\n",
        "print(df_dropped)\n",
        "\n",
        "# Fill missing values with the mean of the column\n",
        "df_filled = df.fillna(df.mean(numeric_only=True))\n",
        "print(\"\\nDataFrame after filling missing values with mean:\")\n",
        "print(df_filled)\n",
        "```"
      ],
      "metadata": {
        "id": "MVtPuacGsX0k"
      }
    },
    {
      "cell_type": "markdown",
      "source": [
        "Q14. What are the benefits of using Plotly for data visualization?\n",
        "\n",
        "-> Plotly offers several benefits for data visualization, including its ability to create interactive and dynamic visualizations that enhance user engagement. Its simpler syntax makes it accessible for beginners, while its extensive range of plot types allows for versatile data representation.\n",
        "\n",
        "### Benefits of Using Plotly for Data Visualization:\n",
        "\n",
        "1. **Interactivity**:\n",
        "   - Plotly enables users to create interactive visualizations that allow for zooming, panning, and hovering over data points for additional information. This interactivity enhances user engagement and facilitates deeper data exploration.\n",
        "\n",
        "2. **Wide Range of Chart Types**:\n",
        "   - The library supports a variety of chart types, including basic plots like bar and line charts, as well as more complex visualizations such as 3D plots, choropleth maps, and treemaps. This versatility allows users to choose the most appropriate visualization for their data.\n",
        "\n",
        "3. **Customization Options**:\n",
        "   - Plotly provides extensive customization capabilities, allowing users to modify nearly every aspect of their visualizations, including colors, fonts, and layout. This flexibility helps in creating visually appealing and informative charts tailored to specific needs.\n",
        "\n",
        "4. **Ease of Use**:\n",
        "   - The syntax of Plotly is intuitive and user-friendly, making it accessible for users with varying levels of programming experience. This simplicity allows users to create complex visualizations with minimal code.\n",
        "\n",
        "5. **Integration with Dash**:\n",
        "   - Plotly integrates seamlessly with Dash, a framework for building interactive web applications. This allows users to create comprehensive dashboards that combine multiple visualizations and interactive components, enhancing data presentation.\n",
        "\n",
        "6. **High-Quality Graphics**:\n",
        "   - The visualizations produced by Plotly are of high quality, making them suitable for professional presentations and reports. The aesthetics of the charts can significantly impact how data is perceived by the audience.\n",
        "\n",
        "7. **Support for Large Datasets**:\n",
        "   - Plotly can handle large datasets efficiently, making it suitable for data analysis tasks that involve significant amounts of information. This capability is particularly beneficial for exploratory data analysis.\n",
        "\n",
        "8. **Cross-Platform Compatibility**:\n",
        "   - Plotly visualizations can be easily shared and embedded in various platforms, including web applications, Jupyter notebooks, and static reports. This cross-platform functionality enhances collaboration and sharing of insights.\n",
        "\n",
        "9. **Community and Documentation**:\n",
        "   - Plotly has a strong community and comprehensive documentation, providing users with resources and support for troubleshooting and learning. This can be particularly helpful for new users as they navigate the library."
      ],
      "metadata": {
        "id": "3A100vQAsvj8"
      }
    },
    {
      "cell_type": "markdown",
      "source": [
        "Q15.  How does NumPy handle multidimensional arrays?\n",
        "\n",
        "-> NumPy, a fundamental package for numerical computing in Python, provides robust support for handling multidimensional arrays through its powerful array object called `ndarray`. This capability allows users to efficiently store, manipulate, and perform operations on large datasets. Here’s how NumPy handles multidimensional arrays:\n",
        "\n",
        "### Key Features of NumPy's Multidimensional Arrays:\n",
        "\n",
        "1. **N-Dimensional Arrays**:\n",
        "   - NumPy allows the creation of arrays with any number of dimensions (1D, 2D, 3D, etc.). The `ndarray` object can represent vectors, matrices, and higher-dimensional data structures.\n",
        "\n",
        "2. **Shape and Size**:\n",
        "   - Each NumPy array has a `shape` attribute that returns a tuple representing the size of each dimension. For example, a 2D array (matrix) with 3 rows and 4 columns will have a shape of `(3, 4)`.\n",
        "   - The `size` attribute provides the total number of elements in the array.\n",
        "\n",
        "3. **Efficient Storage**:\n",
        "   - NumPy arrays are stored in contiguous blocks of memory, which allows for efficient access and manipulation of data. This is in contrast to Python lists, which can store elements of different types and are not contiguous in memory.\n",
        "\n",
        "4. **Element-wise Operations**:\n",
        "   - NumPy supports element-wise operations on arrays, allowing users to perform arithmetic operations, comparisons, and other functions directly on the entire array without the need for explicit loops. This leads to concise and efficient code.\n",
        "\n",
        "5. **Broadcasting**:\n",
        "   - NumPy employs a powerful feature called broadcasting, which allows operations between arrays of different shapes. When performing operations, NumPy automatically expands the smaller array to match the shape of the larger array, enabling seamless arithmetic operations.\n",
        "\n",
        "6. **Indexing and Slicing**:\n",
        "   - NumPy provides advanced indexing and slicing capabilities for multidimensional arrays. Users can access and modify specific elements, rows, columns, or subarrays using various indexing techniques, including boolean indexing and fancy indexing.\n",
        "\n",
        "7. **Reshaping and Transposing**:\n",
        "   - Users can easily reshape arrays using the `reshape()` method, allowing for the transformation of the array's shape without changing its data. The `transpose()` method can be used to swap the axes of the array, which is particularly useful for matrix operations.\n",
        "\n",
        "8. **Aggregation and Statistical Functions**:\n",
        "   - NumPy offers a wide range of functions for performing aggregation and statistical operations on multidimensional arrays, such as `sum()`, `mean()`, `min()`, and `max()`. These functions can operate along specified axes, allowing for flexible data analysis.\n",
        "\n",
        "### Example of Handling Multidimensional Arrays in NumPy:\n",
        "\n",
        "Here’s a simple example demonstrating how to create and manipulate a 2D NumPy array:\n",
        "\n",
        "```python\n",
        "import numpy as np\n",
        "\n",
        "# Create a 2D NumPy array (matrix)\n",
        "array_2d = np.array([[1, 2, 3],\n",
        "                     [4, 5, 6],\n",
        "                     [7, 8, 9]])\n",
        "\n",
        "# Display the shape and size of the array\n",
        "print(\"Shape of the array:\", array_2d.shape)  # Output: (3, 3)\n",
        "print(\"Size of the array:\", array_2d.size)    # Output: 9\n",
        "\n",
        "# Accessing elements\n",
        "print(\"Element at (1, 2):\", array_2d[1, 2])  # Output: 6\n",
        "\n",
        "# Slicing the array\n",
        "print(\"First two rows:\\n\", array_2d[:2])      # Output: [[1, 2, 3], [4, 5, 6]]\n",
        "\n",
        "# Element-wise operation\n",
        "array_squared = array_2d ** 2\n",
        "print(\"Squared array:\\n\", array_squared)\n",
        "\n",
        "# Reshaping the array\n",
        "reshaped_array = array_2d.reshape(1, 9)\n",
        "print(\"Reshaped array:\\n\", reshaped_array)\n",
        "```"
      ],
      "metadata": {
        "id": "JMm06fkJtQfI"
      }
    },
    {
      "cell_type": "markdown",
      "source": [
        "Q16.  What is the role of Bokeh in data visualization?\n",
        "\n",
        "-> Bokeh is a Python library designed for creating interactive and visually appealing data visualizations. It enables users to build complex plots and dashboards that can be easily shared and embedded in web applications, enhancing the data exploration experience.\n",
        "\n",
        "### Key Roles of Bokeh in Data Visualization:\n",
        "\n",
        "1. **Interactive Visualizations**:\n",
        "   - Bokeh allows the creation of interactive plots that enable users to explore data dynamically. Features like zooming, panning, and hovering provide deeper insights into the data.\n",
        "\n",
        "2. **High-Performance Rendering**:\n",
        "   - Bokeh is optimized for performance, making it suitable for handling large datasets. It uses WebGL for rendering, which allows for efficient visualization of complex data.\n",
        "\n",
        "3. **Flexible Output Options**:\n",
        "   - Users can generate visualizations in various formats, including standalone HTML documents, Jupyter notebooks, and web applications. This flexibility makes it easy to integrate Bokeh plots into different environments.\n",
        "\n",
        "4. **Rich Set of Plotting Tools**:\n",
        "   - Bokeh provides a wide range of plotting tools and glyphs (visual shapes) for creating various types of visualizations, such as line plots, bar charts, scatter plots, and more. This versatility caters to different data visualization needs.\n",
        "\n",
        "5. **Customizable Layouts**:\n",
        "   - The library supports customizable layouts, allowing users to arrange multiple plots and widgets in a coherent manner. This is particularly useful for creating dashboards that present multiple data views simultaneously.\n",
        "\n",
        "6. **Integration with Other Libraries**:\n",
        "   - Bokeh can be easily integrated with other Python libraries, such as Pandas and NumPy, facilitating seamless data manipulation and visualization. This integration enhances the overall data analysis workflow.\n",
        "\n",
        "7. **Server-Side Capabilities**:\n",
        "   - Bokeh includes a server component that allows for real-time data streaming and interactive applications. This feature is beneficial for applications that require live updates, such as monitoring dashboards.\n",
        "\n",
        "8. **User  Interface Elements**:\n",
        "   - Bokeh supports various widgets (e.g., sliders, dropdowns, buttons) that can be used to create interactive user interfaces. These elements enable users to manipulate data visualizations directly.\n",
        "\n",
        "### Example of Creating a Simple Bokeh Plot:\n",
        "\n",
        "Here’s a basic example of how to create an interactive scatter plot using Bokeh:\n",
        "\n",
        "```python\n",
        "from bokeh.plotting import figure, output_file, show\n",
        "\n",
        "# Prepare the output file\n",
        "output_file(\"scatter_plot.html\")\n",
        "\n",
        "# Create a new plot\n",
        "p = figure(title=\"Simple Scatter Plot\", x_axis_label='X-Axis', y_axis_label='Y-Axis')\n",
        "\n",
        "# Add a scatter renderer\n",
        "p.circle([1, 2, 3, 4, 5], [6, 7, 2, 4, 5], size=10, color=\"navy\", alpha=0.5)\n",
        "\n",
        "# Show the results\n",
        "show(p)\n",
        "```\n"
      ],
      "metadata": {
        "id": "IuBk_eTeuBhz"
      }
    },
    {
      "cell_type": "markdown",
      "source": [
        "Q17. Explain the difference between apply() and map() in Pandas?\n",
        "\n",
        "-> In Pandas, both `apply()` and `map()` are used to apply functions to data, but they serve different purposes and are used in different contexts. Here’s a detailed explanation of the differences between the two:\n",
        "\n",
        "### `apply()`\n",
        "\n",
        "1. **Functionality**:\n",
        "   - The `apply()` function is used to apply a function along the axis of a DataFrame (rows or columns) or to a Series. It can be used for more complex operations that may involve multiple columns or rows.\n",
        "\n",
        "2. **Usage**:\n",
        "   - It can be applied to both DataFrames and Series.\n",
        "   - When used on a DataFrame, you can specify the axis along which to apply the function:\n",
        "     - `axis=0` applies the function to each column (default).\n",
        "     - `axis=1` applies the function to each row.\n",
        "\n",
        "3. **Return Type**:\n",
        "   - The return type of `apply()` depends on the function being applied. It can return a Series, DataFrame, or scalar value.\n",
        "\n",
        "4. **Complex Operations**:\n",
        "   - `apply()` is suitable for applying functions that require access to multiple columns or rows, making it more versatile for complex operations.\n",
        "\n",
        "### Example of `apply()`:\n",
        "\n",
        "```python\n",
        "import pandas as pd\n",
        "\n",
        "# Create a sample DataFrame\n",
        "df = pd.DataFrame({\n",
        "    'A': [1, 2, 3],\n",
        "    'B': [4, 5, 6]\n",
        "})\n",
        "\n",
        "# Apply a function to each row\n",
        "result = df.apply(lambda row: row['A'] + row['B'], axis=1)\n",
        "print(result)\n",
        "```\n",
        "\n",
        "### `map()`\n",
        "\n",
        "1. **Functionality**:\n",
        "   - The `map()` function is primarily used to apply a function to each element of a Series. It is generally used for element-wise transformations.\n",
        "\n",
        "2. **Usage**:\n",
        "   - It can only be applied to a Series, not to a DataFrame.\n",
        "   - It is often used for substituting or transforming values in a Series based on a mapping or a function.\n",
        "\n",
        "3. **Return Type**:\n",
        "   - The return type of `map()` is always a Series.\n",
        "\n",
        "4. **Simplicity**:\n",
        "   - `map()` is simpler and more efficient for straightforward element-wise operations, such as replacing values or applying a function to each individual element.\n",
        "\n",
        "### Example of `map()`:\n",
        "\n",
        "```python\n",
        "import pandas as pd\n",
        "\n",
        "# Create a sample Series\n",
        "s = pd.Series([1, 2, 3, 4])\n",
        "\n",
        "# Apply a function to each element\n",
        "result = s.map(lambda x: x ** 2)\n",
        "print(result)\n",
        "```\n",
        "\n",
        "### Summary of Differences:\n",
        "\n",
        "| Feature          | `apply()`                          | `map()`                          |\n",
        "|------------------|------------------------------------|----------------------------------|\n",
        "| **Context**      | DataFrame and Series                | Series only                      |\n",
        "| **Functionality**| Applies a function along an axis   | Applies a function element-wise   |\n",
        "| **Return Type**  | Can return Series, DataFrame, or scalar | Always returns a Series          |\n",
        "| **Complexity**   | Suitable for complex operations     | Best for simple, element-wise operations |\n",
        "\n"
      ],
      "metadata": {
        "id": "yrxZkiF6uaXQ"
      }
    },
    {
      "cell_type": "markdown",
      "source": [
        "Q18.  What are some advanced features of NumPy?\n",
        "\n",
        "-> NumPy is a powerful library for numerical computing in Python, and it offers several advanced features that enhance its functionality and usability for scientific computing, data analysis, and machine learning. Here are some of the advanced features of NumPy:\n",
        "\n",
        "### 1. Broadcasting\n",
        "- **Definition**: Broadcasting is a powerful mechanism that allows NumPy to perform arithmetic operations on arrays of different shapes. It automatically expands the smaller array to match the shape of the larger array during operations.\n",
        "- **Example**: Adding a scalar to an array or adding two arrays of different shapes.\n",
        "\n",
        "### 2. Universal Functions (ufuncs)\n",
        "- **Definition**: Universal functions are functions that operate element-wise on arrays. They are highly optimized for performance and can handle arrays of different shapes.\n",
        "- **Example**: Functions like `np.add()`, `np.multiply()`, `np.sin()`, and `np.exp()` can be applied to arrays directly.\n",
        "\n",
        "### 3. Advanced Indexing and Slicing\n",
        "- **Definition**: NumPy provides advanced indexing techniques, including boolean indexing and fancy indexing, which allow for more flexible data selection and manipulation.\n",
        "- **Example**: Using boolean arrays to filter data or using integer arrays to select specific elements from an array.\n",
        "\n",
        "### 4. Linear Algebra Functions\n",
        "- **Definition**: NumPy includes a comprehensive set of linear algebra functions in the `numpy.linalg` module, which allows for operations such as matrix multiplication, eigenvalue decomposition, and solving linear equations.\n",
        "- **Example**: Functions like `np.dot()`, `np.linalg.inv()`, and `np.linalg.eig()` are commonly used for linear algebra computations.\n",
        "\n",
        "### 5. Fourier Transform\n",
        "- **Definition**: NumPy provides functions for computing the discrete Fourier Transform (DFT) and its inverse, which are useful for signal processing and frequency analysis.\n",
        "- **Example**: The `np.fft` module includes functions like `np.fft.fft()` and `np.fft.ifft()` for performing Fourier transforms.\n",
        "\n",
        "### 6. Random Number Generation\n",
        "- **Definition**: NumPy includes a powerful random number generation module (`numpy.random`) that allows for generating random samples from various probability distributions.\n",
        "- **Example**: Functions like `np.random.rand()`, `np.random.randn()`, and `np.random.randint()` can be used to generate random numbers.\n",
        "\n",
        "### 7. Structured Arrays\n",
        "- **Definition**: NumPy supports structured arrays, which allow for arrays with mixed data types. This feature is useful for handling heterogeneous data.\n",
        "- **Example**: Creating an array with fields of different data types, such as integers, floats, and strings.\n",
        "\n",
        "### 8. Memory Layout and Data Types\n",
        "- **Definition**: NumPy allows for fine control over the memory layout of arrays (C-contiguous vs. Fortran-contiguous) and supports a wide range of data types, including custom data types.\n",
        "- **Example**: Specifying the data type when creating an array using the `dtype` parameter.\n",
        "\n",
        "### 9. Performance Optimization\n",
        "- **Definition**: NumPy is optimized for performance, leveraging low-level libraries like BLAS and LAPACK for efficient numerical computations. It also supports parallel processing and vectorization.\n",
        "- **Example**: Operations on NumPy arrays are typically faster than equivalent operations on Python lists due to optimized C implementations.\n",
        "\n",
        "### 10. Integration with Other Libraries\n",
        "- **Definition**: NumPy serves as the foundation for many other scientific computing libraries in Python, such as SciPy, Pandas, and Matplotlib. This integration allows for seamless data manipulation and visualization.\n",
        "- **Example**: Using NumPy arrays as inputs for functions in SciPy for optimization or integration tasks.\n",
        "\n"
      ],
      "metadata": {
        "id": "OBrgLtzVuzVV"
      }
    },
    {
      "cell_type": "markdown",
      "source": [
        "Q19.  How does Pandas simplify time series analysis?\n",
        "\n",
        "-> Pandas is a powerful library in Python that provides extensive support for time series analysis, making it easier for users to work with date and time data. Here are several ways in which Pandas simplifies time series analysis:\n",
        "\n",
        "### 1. Date and Time Data Types\n",
        "- **DatetimeIndex**: Pandas provides a specialized `DatetimeIndex` that allows for efficient indexing and manipulation of time series data. This index can handle various date and time formats, making it easy to work with time-based data.\n",
        "- **Timestamp**: The `Timestamp` object in Pandas represents a single point in time, allowing for precise time calculations and comparisons.\n",
        "\n",
        "### 2. Resampling\n",
        "- **Definition**: Resampling is the process of changing the frequency of time series data. Pandas makes it easy to upsample (increase frequency) or downsample (decrease frequency) time series data using the `resample()` method.\n",
        "- **Example**: You can convert daily data to monthly data by aggregating values using functions like `mean()`, `sum()`, or `max()`.\n",
        "\n",
        "### 3. Time Zone Handling\n",
        "- **Definition**: Pandas provides built-in support for time zone-aware datetime objects. This allows users to convert between time zones and perform operations on time series data that spans multiple time zones.\n",
        "- **Example**: You can localize a naive datetime to a specific time zone or convert it to another time zone using the `tz_localize()` and `tz_convert()` methods.\n",
        "\n",
        "### 4. Date Range Generation\n",
        "- **Definition**: Pandas allows for easy generation of date ranges using the `date_range()` function. This is useful for creating time series data with specific frequencies.\n",
        "- **Example**: You can create a range of dates with daily, monthly, or yearly frequency, which can then be used as an index for a DataFrame.\n",
        "\n",
        "### 5. Time Series Operations\n",
        "- **Vectorized Operations**: Pandas supports vectorized operations on time series data, allowing for efficient calculations without the need for explicit loops. This includes arithmetic operations, aggregations, and transformations.\n",
        "- **Shifting and Lagging**: The `shift()` method allows users to shift time series data forward or backward, which is useful for calculating differences or creating lagged features.\n",
        "\n",
        "### 6. Rolling and Expanding Windows\n",
        "- **Definition**: Pandas provides rolling and expanding window functions that allow for the calculation of statistics over a specified window of time. This is useful for smoothing time series data or calculating moving averages.\n",
        "- **Example**: You can use the `rolling()` method to compute a moving average over a specified window size.\n",
        "\n",
        "### 7. Handling Missing Data\n",
        "- **Definition**: Time series data often contains missing values. Pandas provides methods like `fillna()` and `interpolate()` to handle missing data effectively, ensuring that time series analysis remains robust.\n",
        "- **Example**: You can forward-fill or backward-fill missing values to maintain continuity in time series data.\n",
        "\n",
        "### 8. Time Series Plotting\n",
        "- **Integration with Matplotlib**: Pandas integrates seamlessly with Matplotlib for visualizing time series data. You can easily plot time series data using the `plot()` method, which automatically handles date formatting on the x-axis.\n",
        "- **Example**: Plotting a time series DataFrame will automatically format the x-axis with appropriate date labels.\n",
        "\n",
        "### Example of Time Series Analysis in Pandas:\n",
        "\n",
        "Here’s a simple example demonstrating some of these features:\n",
        "\n",
        "```python\n",
        "import pandas as pd\n",
        "import numpy as np\n",
        "\n",
        "# Create a date range\n",
        "date_range = pd.date_range(start='2023-01-01', periods=10, freq='D')\n",
        "\n",
        "# Create a DataFrame with time series data\n",
        "data = {\n",
        "    'date': date_range,\n",
        "    'value': np.random.randn(10)\n",
        "}\n",
        "df = pd.DataFrame(data)\n",
        "df.set_index('date', inplace=True)\n",
        "\n",
        "# Resample the data to a different frequency (e.g., weekly)\n",
        "weekly_data = df.resample('W').mean()\n",
        "\n",
        "# Plot the time series data\n",
        "df.plot(title='Daily Time Series Data')\n",
        "weekly_data.plot(title='Weekly Resampled Data', linestyle='--')\n",
        "```"
      ],
      "metadata": {
        "id": "FHqPRVnovJtw"
      }
    },
    {
      "cell_type": "markdown",
      "source": [
        "Q20.  What is the role of a pivot table in Pandas?\n",
        "\n",
        "-> A pivot table in Pandas is a powerful tool for data analysis that allows users to summarize and reorganize data in a DataFrame. It provides a way to aggregate and transform data, making it easier to analyze and extract insights. Here’s a detailed explanation of the role of pivot tables in Pandas:\n",
        "\n",
        "### Key Roles of Pivot Tables in Pandas:\n",
        "\n",
        "1. **Data Summarization**:\n",
        "   - Pivot tables enable users to summarize large datasets by aggregating values based on one or more categorical variables. This helps in condensing data into a more manageable format, making it easier to analyze.\n",
        "\n",
        "2. **Multi-dimensional Analysis**:\n",
        "   - Pivot tables allow for multi-dimensional analysis by enabling users to group data along multiple axes (rows and columns). This facilitates the exploration of relationships between different variables in the dataset.\n",
        "\n",
        "3. **Aggregation Functions**:\n",
        "   - Users can specify aggregation functions (e.g., `sum`, `mean`, `count`, `min`, `max`) to compute summary statistics for the data. This flexibility allows for tailored analysis based on the specific needs of the user.\n",
        "\n",
        "4. **Data Reshaping**:\n",
        "   - Pivot tables reshape data from a long format to a wide format, where unique values from one column become new columns. This transformation is useful for creating a more intuitive view of the data.\n",
        "\n",
        "5. **Handling Missing Data**:\n",
        "   - Pivot tables can handle missing data by allowing users to specify how to fill in gaps (e.g., using `fill_value` parameter). This ensures that the resulting table is complete and ready for analysis.\n",
        "\n",
        "6. **Ease of Use**:\n",
        "   - The `pivot_table()` function in Pandas provides a straightforward and intuitive interface for creating pivot tables. This simplicity makes it accessible for users with varying levels of data analysis experience.\n",
        "\n",
        "### Example of Creating a Pivot Table in Pandas:\n",
        "\n",
        "Here’s a simple example demonstrating how to create a pivot table using Pandas:\n",
        "\n",
        "```python\n",
        "import pandas as pd\n",
        "\n",
        "# Create a sample DataFrame\n",
        "data = {\n",
        "    'Date': ['2023-01-01', '2023-01-01', '2023-01-02', '2023-01-02'],\n",
        "    'Category': ['A', 'B', 'A', 'B'],\n",
        "    'Sales': [100, 150, 200, 250]\n",
        "}\n",
        "\n",
        "df = pd.DataFrame(data)\n",
        "\n",
        "# Create a pivot table to summarize sales by date and category\n",
        "pivot_table = pd.pivot_table(df, values='Sales', index='Date', columns='Category', aggfunc='sum', fill_value=0)\n",
        "\n",
        "print(pivot_table)\n",
        "```\n",
        "\n",
        "### Output:\n",
        "```\n",
        "Category         A    B\n",
        "Date                  \n",
        "2023-01-01    100  150\n",
        "2023-01-02    200  250\n",
        "```\n",
        "\n",
        "### Explanation of the Example:\n",
        "- In this example, we created a DataFrame with sales data categorized by date and category.\n",
        "- We then used the `pivot_table()` function to summarize the total sales for each category on each date.\n",
        "- The resulting pivot table shows the sum of sales for each category, with dates as rows and categories as columns. Missing values are filled with 0.\n",
        "\n"
      ],
      "metadata": {
        "id": "bd4rPRIJvlxO"
      }
    },
    {
      "cell_type": "markdown",
      "source": [
        "Q21.  Why is NumPy’s array slicing faster than Python’s list slicing?\n",
        "\n",
        "-> NumPy's array slicing is generally faster than Python's list slicing due to several key factors related to how NumPy is implemented and how it manages memory and data structures. Here are the main reasons for this performance difference:\n",
        "\n",
        "### 1. **Contiguous Memory Allocation**\n",
        "- **NumPy Arrays**: NumPy arrays are stored in contiguous blocks of memory. This means that all elements of the array are stored next to each other in memory, which allows for efficient access and manipulation. When slicing a NumPy array, the operation can be performed without needing to create a new copy of the data, as the slicing operation simply creates a new view of the original array.\n",
        "- **Python Lists**: Python lists, on the other hand, are dynamic arrays that can store elements of different types. When slicing a list, a new list is created, which involves copying the elements from the original list to the new list. This copying process adds overhead and slows down the slicing operation.\n",
        "\n",
        "### 2. **Optimized C Implementation**\n",
        "- **NumPy**: The core of NumPy is implemented in C, which allows for low-level optimizations and efficient memory management. Operations on NumPy arrays, including slicing, are executed in compiled code, which is significantly faster than interpreted Python code.\n",
        "- **Python Lists**: Python lists are implemented in Python itself, which means that operations on lists are subject to the overhead of the Python interpreter. This can lead to slower performance compared to the optimized operations available in NumPy.\n",
        "\n",
        "### 3. **View vs. Copy**\n",
        "- **NumPy Slicing**: When you slice a NumPy array, it typically returns a view of the original array rather than a copy. This means that modifications to the sliced array can affect the original array, and vice versa. This behavior allows for efficient memory usage and faster operations since no new data is created.\n",
        "- **Python List Slicing**: In contrast, slicing a Python list creates a new list that is a copy of the specified elements. This copying process incurs additional time and memory overhead.\n",
        "\n",
        "### 4. **Vectorized Operations**\n",
        "- **NumPy**: NumPy supports vectorized operations, which means that operations can be applied to entire arrays at once without the need for explicit loops. This allows for efficient computation and manipulation of data, including during slicing operations.\n",
        "- **Python Lists**: Operations on Python lists often require explicit loops, which can be slower due to the overhead of Python's interpreted execution.\n",
        "\n",
        "### Example Comparison:\n",
        "\n",
        "Here’s a simple example to illustrate the difference in slicing performance:\n",
        "\n",
        "```python\n",
        "import numpy as np\n",
        "import time\n",
        "\n",
        "# Create a large NumPy array and a Python list\n",
        "n = 10**6\n",
        "numpy_array = np.arange(n)\n",
        "python_list = list(range(n))\n",
        "\n",
        "# Time NumPy slicing\n",
        "start_time = time.time()\n",
        "numpy_slice = numpy_array[100:200]\n",
        "numpy_time = time.time() - start_time\n",
        "\n",
        "# Time Python list slicing\n",
        "start_time = time.time()\n",
        "list_slice = python_list[100:200]\n",
        "list_time = time.time() - start_time\n",
        "\n",
        "print(f\"NumPy slicing time: {numpy_time:.6f} seconds\")\n",
        "print(f\"Python list slicing time: {list_time:.6f} seconds\")\n",
        "```"
      ],
      "metadata": {
        "id": "3jwSlQFqwW26"
      }
    },
    {
      "cell_type": "markdown",
      "source": [
        "Q22. What are some common use cases for Seaborn?\n",
        "\n",
        "-> Seaborn is a powerful Python data visualization library built on top of Matplotlib that provides a high-level interface for drawing attractive and informative statistical graphics. It is particularly well-suited for visualizing complex datasets and making statistical graphics more accessible. Here are some common use cases for Seaborn:\n",
        "\n",
        "### 1. **Exploratory Data Analysis (EDA)**\n",
        "- **Purpose**: Seaborn is widely used for exploratory data analysis to understand the underlying patterns, trends, and relationships in the data.\n",
        "- **Example**: Visualizing distributions, relationships, and categorical data to identify potential correlations or anomalies.\n",
        "\n",
        "### 2. **Statistical Visualization**\n",
        "- **Purpose**: Seaborn provides built-in functions for creating statistical plots that help in understanding the distribution and relationships of data.\n",
        "- **Example**: Creating box plots, violin plots, and pair plots to visualize the distribution of data and compare different groups.\n",
        "\n",
        "### 3. **Visualizing Distributions**\n",
        "- **Purpose**: Seaborn makes it easy to visualize the distribution of a dataset using various types of plots.\n",
        "- **Example**: Using `sns.histplot()` or `sns.kdeplot()` to visualize the distribution of a continuous variable, allowing for insights into its shape, central tendency, and spread.\n",
        "\n",
        "### 4. **Categorical Data Visualization**\n",
        "- **Purpose**: Seaborn provides functions specifically designed for visualizing categorical data, making it easier to compare different categories.\n",
        "- **Example**: Using `sns.barplot()`, `sns.countplot()`, or `sns.boxplot()` to compare the means or counts of different categories in a dataset.\n",
        "\n",
        "### 5. **Heatmaps**\n",
        "- **Purpose**: Seaborn is commonly used to create heatmaps for visualizing correlation matrices or other matrix-like data.\n",
        "- **Example**: Using `sns.heatmap()` to visualize the correlation between different variables in a dataset, helping to identify strong relationships.\n",
        "\n",
        "### 6. **Pairwise Relationships**\n",
        "- **Purpose**: Seaborn provides the `sns.pairplot()` function to visualize pairwise relationships in a dataset, which is useful for understanding interactions between multiple variables.\n",
        "- **Example**: Creating a grid of scatter plots for all pairs of variables in a DataFrame, colored by a categorical variable.\n",
        "\n",
        "### 7. **Regression Plots**\n",
        "- **Purpose**: Seaborn simplifies the process of fitting and visualizing regression models.\n",
        "- **Example**: Using `sns.regplot()` or `sns.lmplot()` to visualize the relationship between two continuous variables along with a fitted regression line.\n",
        "\n",
        "### 8. **Facet Grids**\n",
        "- **Purpose**: Seaborn allows for the creation of multi-plot grids that can display different subsets of data based on categorical variables.\n",
        "- **Example**: Using `sns.FacetGrid()` to create a grid of plots that show the distribution of a variable across different levels of another variable.\n",
        "\n",
        "### 9. **Customizing Aesthetics**\n",
        "- **Purpose**: Seaborn provides a range of options for customizing the aesthetics of plots, making it easy to create visually appealing graphics.\n",
        "- **Example**: Using themes and color palettes to enhance the visual appeal of plots, such as `sns.set_theme()` or `sns.color_palette()`.\n",
        "\n",
        "### 10. **Time Series Visualization**\n",
        "- **Purpose**: Seaborn can be used to visualize time series data effectively, helping to identify trends and seasonal patterns.\n",
        "- **Example**: Using `sns.lineplot()` to visualize changes in a variable over time, with options for confidence intervals.\n",
        "\n",
        "### Example of Using Seaborn:\n",
        "\n",
        "Here’s a simple example demonstrating how to create a pair plot using Seaborn:\n",
        "\n",
        "```python\n",
        "import seaborn as sns\n",
        "import matplotlib.pyplot as plt\n",
        "\n",
        "# Load the iris dataset\n",
        "iris = sns.load_dataset('iris')\n",
        "\n",
        "# Create a pair plot\n",
        "sns.pairplot(iris, hue='species')\n",
        "\n",
        "# Show the plot\n",
        "plt.show()\n",
        "```\n"
      ],
      "metadata": {
        "id": "byl6mxiEwpIi"
      }
    },
    {
      "cell_type": "markdown",
      "source": [
        "#  Practical"
      ],
      "metadata": {
        "id": "aUfhIT2IxEFE"
      }
    },
    {
      "cell_type": "markdown",
      "source": [
        "Q1. How do you create a 2D NumPy array and calculate the sum of each row?"
      ],
      "metadata": {
        "id": "iNUzrCCTxMv7"
      }
    },
    {
      "cell_type": "code",
      "source": [
        "import numpy as np\n",
        "\n",
        "# Step 1: Create a 2D array\n",
        "arr = np.array([\n",
        "    [1, 2, 3],\n",
        "    [4, 5, 6],\n",
        "    [7, 8, 9]\n",
        "])\n",
        "\n",
        "# Step 2: Calculate the sum of each row\n",
        "row_sums = np.sum(arr, axis=1)\n",
        "\n",
        "print(\"2D Array:\\n\", arr)\n",
        "print(\"Row sums:\", row_sums)\n"
      ],
      "metadata": {
        "colab": {
          "base_uri": "https://localhost:8080/"
        },
        "id": "TUP5mA2oxakE",
        "outputId": "3e051209-1a30-4722-b574-72325ff228de"
      },
      "execution_count": 1,
      "outputs": [
        {
          "output_type": "stream",
          "name": "stdout",
          "text": [
            "2D Array:\n",
            " [[1 2 3]\n",
            " [4 5 6]\n",
            " [7 8 9]]\n",
            "Row sums: [ 6 15 24]\n"
          ]
        }
      ]
    },
    {
      "cell_type": "markdown",
      "source": [
        "Q2. Write a Pandas script to find the mean of a specific column in a DataFrame?"
      ],
      "metadata": {
        "id": "T1orkJ4wxiIg"
      }
    },
    {
      "cell_type": "code",
      "source": [
        "import pandas as pd\n",
        "\n",
        "# Sample DataFrame\n",
        "data = {\n",
        "    'Name': ['Alice', 'Bob', 'Charlie'],\n",
        "    'Age': [25, 30, 35],\n",
        "    'Salary': [50000, 60000, 70000]\n",
        "}\n",
        "\n",
        "df = pd.DataFrame(data)\n",
        "\n",
        "# Find the mean of the 'Salary' column\n",
        "salary_mean = df['Salary'].mean()\n",
        "\n",
        "print(\"Mean Salary:\", salary_mean)\n"
      ],
      "metadata": {
        "colab": {
          "base_uri": "https://localhost:8080/"
        },
        "id": "tz_Xwv6Gxq1B",
        "outputId": "8c383cda-68d3-4420-a9e8-10a2d71f5546"
      },
      "execution_count": 2,
      "outputs": [
        {
          "output_type": "stream",
          "name": "stdout",
          "text": [
            "Mean Salary: 60000.0\n"
          ]
        }
      ]
    },
    {
      "cell_type": "markdown",
      "source": [
        "Q3.  Create a scatter plot using Matplotlib."
      ],
      "metadata": {
        "id": "HS3HSWf0xyUe"
      }
    },
    {
      "cell_type": "code",
      "source": [
        "import matplotlib.pyplot as plt\n",
        "\n",
        "# Sample data\n",
        "x = [1, 2, 3, 4, 5]\n",
        "y = [2, 4, 1, 3, 7]\n",
        "\n",
        "# Create scatter plot\n",
        "plt.scatter(x, y, color='blue', marker='o', s=100)\n",
        "\n",
        "# Add labels and title\n",
        "plt.xlabel('X Axis')\n",
        "plt.ylabel('Y Axis')\n",
        "plt.title('Simple Scatter Plot')\n",
        "\n",
        "# Show plot\n",
        "plt.show()\n"
      ],
      "metadata": {
        "colab": {
          "base_uri": "https://localhost:8080/",
          "height": 472
        },
        "id": "GLUYhSNhx4vm",
        "outputId": "17bd087a-7e8f-4dff-b6bf-4c94a8a11bcc"
      },
      "execution_count": 3,
      "outputs": [
        {
          "output_type": "display_data",
          "data": {
            "text/plain": [
              "<Figure size 640x480 with 1 Axes>"
            ],
            "image/png": "[encoded data removed]"
          },
          "metadata": {}
        }
      ]
    },
    {
      "cell_type": "markdown",
      "source": [
        "Q4.  How do you calculate the correlation matrix using Seaborn and visualize it with a heatmap?"
      ],
      "metadata": {
        "id": "M0AKGYUMyBz2"
      }
    },
    {
      "cell_type": "code",
      "source": [
        "import seaborn as sns\n",
        "import pandas as pd\n",
        "import matplotlib.pyplot as plt\n",
        "\n",
        "# Sample DataFrame\n",
        "data = {\n",
        "    'math': [80, 85, 90, 70, 95],\n",
        "    'science': [88, 89, 92, 65, 98],\n",
        "    'english': [78, 75, 85, 60, 90]\n",
        "}\n",
        "df = pd.DataFrame(data)\n",
        "\n",
        "# Step 1: Calculate correlation matrix\n",
        "corr_matrix = df.corr()\n",
        "\n",
        "# Step 2: Plot heatmap of correlation matrix\n",
        "sns.heatmap(corr_matrix, annot=True, cmap='coolwarm', linewidths=0.5)\n",
        "\n",
        "plt.title('Correlation Matrix Heatmap')\n",
        "plt.show()\n"
      ],
      "metadata": {
        "colab": {
          "base_uri": "https://localhost:8080/",
          "height": 452
        },
        "id": "MDAGpBFzyG4X",
        "outputId": "54075648-7542-4278-b200-96cf4cf52349"
      },
      "execution_count": 4,
      "outputs": [
        {
          "output_type": "display_data",
          "data": {
            "text/plain": [
              "<Figure size 640x480 with 2 Axes>"
            ],
            "image/png": "[encoded data removed]"
          },
          "metadata": {}
        }
      ]
    },
    {
      "cell_type": "markdown",
      "source": [
        "Q5.  Generate a bar plot using Plotly."
      ],
      "metadata": {
        "id": "PFNep9z9yPb7"
      }
    },
    {
      "cell_type": "code",
      "source": [
        "import plotly.express as px\n",
        "\n",
        "# Sample data\n",
        "data = {\n",
        "    'Fruits': ['Apples', 'Oranges', 'Bananas', 'Grapes'],\n",
        "    'Quantity': [10, 15, 7, 12]\n",
        "}\n",
        "\n",
        "# Create bar plot\n",
        "fig = px.bar(data, x='Fruits', y='Quantity', title='Fruit Quantity Bar Plot')\n",
        "\n",
        "# Show plot\n",
        "fig.show()\n"
      ],
      "metadata": {
        "colab": {
          "base_uri": "https://localhost:8080/",
          "height": 542
        },
        "id": "WDc1-fgsyUtm",
        "outputId": "4c17d0e4-0681-46dc-fcda-593feeff202c"
      },
      "execution_count": 5,
      "outputs": [
        {
          "output_type": "display_data",
          "data": {
            "text/html": [
              "<html>\n",
              "<head><meta charset=\"utf-8\" /></head>\n",
              "<body>\n",
              "    <div>            <script src=\"https://cdnjs.cloudflare.com/ajax/libs/mathjax/2.7.5/MathJax.js?config=TeX-AMS-MML_SVG\"></script><script type=\"text/javascript\">if (window.MathJax && window.MathJax.Hub && window.MathJax.Hub.Config) {window.MathJax.Hub.Config({SVG: {font: \"STIX-Web\"}});}</script>                <script type=\"text/javascript\">window.PlotlyConfig = {MathJaxConfig: 'local'};</script>\n",
              "        <script charset=\"utf-8\" src=\"https://cdn.plot.ly/plotly-2.35.2.min.js\"></script>                <div id=\"25ce0c18-e014-4d1c-8539-617c4f41e920\" class=\"plotly-graph-div\" style=\"height:525px; width:100%;\"></div>            <script type=\"text/javascript\">                                    window.PLOTLYENV=window.PLOTLYENV || {};                                    if (document.getElementById(\"25ce0c18-e014-4d1c-8539-617c4f41e920\")) {                    Plotly.newPlot(                        \"25ce0c18-e014-4d1c-8539-617c4f41e920\",                        [{\"alignmentgroup\":\"True\",\"hovertemplate\":\"Fruits=%{x}\\u003cbr\\u003eQuantity=%{y}\\u003cextra\\u003e\\u003c\\u002fextra\\u003e\",\"legendgroup\":\"\",\"marker\":{\"color\":\"#636efa\",\"pattern\":{\"shape\":\"\"}},\"name\":\"\",\"offsetgroup\":\"\",\"orientation\":\"v\",\"showlegend\":false,\"textposition\":\"auto\",\"x\":[\"Apples\",\"Oranges\",\"Bananas\",\"Grapes\"],\"xaxis\":\"x\",\"y\":[10,15,7,12],\"yaxis\":\"y\",\"type\":\"bar\"}],                        {\"template\":{\"data\":{\"histogram2dcontour\":[{\"type\":\"histogram2dcontour\",\"colorbar\":{\"outlinewidth\":0,\"ticks\":\"\"},\"colorscale\":[[0.0,\"#0d0887\"],[0.1111111111111111,\"#46039f\"],[0.2222222222222222,\"#7201a8\"],[0.3333333333333333,\"#9c179e\"],[0.4444444444444444,\"#bd3786\"],[0.5555555555555556,\"#d8576b\"],[0.6666666666666666,\"#ed7953\"],[0.7777777777777778,\"#fb9f3a\"],[0.8888888888888888,\"#fdca26\"],[1.0,\"#f0f921\"]]}],\"choropleth\":[{\"type\":\"choropleth\",\"colorbar\":{\"outlinewidth\":0,\"ticks\":\"\"}}],\"histogram2d\":[{\"type\":\"histogram2d\",\"colorbar\":{\"outlinewidth\":0,\"ticks\":\"\"},\"colorscale\":[[0.0,\"#0d0887\"],[0.1111111111111111,\"#46039f\"],[0.2222222222222222,\"#7201a8\"],[0.3333333333333333,\"#9c179e\"],[0.4444444444444444,\"#bd3786\"],[0.5555555555555556,\"#d8576b\"],[0.6666666666666666,\"#ed7953\"],[0.7777777777777778,\"#fb9f3a\"],[0.8888888888888888,\"#fdca26\"],[1.0,\"#f0f921\"]]}],\"heatmap\":[{\"type\":\"heatmap\",\"colorbar\":{\"outlinewidth\":0,\"ticks\":\"\"},\"colorscale\":[[0.0,\"#0d0887\"],[0.1111111111111111,\"#46039f\"],[0.2222222222222222,\"#7201a8\"],[0.3333333333333333,\"#9c179e\"],[0.4444444444444444,\"#bd3786\"],[0.5555555555555556,\"#d8576b\"],[0.6666666666666666,\"#ed7953\"],[0.7777777777777778,\"#fb9f3a\"],[0.8888888888888888,\"#fdca26\"],[1.0,\"#f0f921\"]]}],\"heatmapgl\":[{\"type\":\"heatmapgl\",\"colorbar\":{\"outlinewidth\":0,\"ticks\":\"\"},\"colorscale\":[[0.0,\"#0d0887\"],[0.1111111111111111,\"#46039f\"],[0.2222222222222222,\"#7201a8\"],[0.3333333333333333,\"#9c179e\"],[0.4444444444444444,\"#bd3786\"],[0.5555555555555556,\"#d8576b\"],[0.6666666666666666,\"#ed7953\"],[0.7777777777777778,\"#fb9f3a\"],[0.8888888888888888,\"#fdca26\"],[1.0,\"#f0f921\"]]}],\"contourcarpet\":[{\"type\":\"contourcarpet\",\"colorbar\":{\"outlinewidth\":0,\"ticks\":\"\"}}],\"contour\":[{\"type\":\"contour\",\"colorbar\":{\"outlinewidth\":0,\"ticks\":\"\"},\"colorscale\":[[0.0,\"#0d0887\"],[0.1111111111111111,\"#46039f\"],[0.2222222222222222,\"#7201a8\"],[0.3333333333333333,\"#9c179e\"],[0.4444444444444444,\"#bd3786\"],[0.5555555555555556,\"#d8576b\"],[0.6666666666666666,\"#ed7953\"],[0.7777777777777778,\"#fb9f3a\"],[0.8888888888888888,\"#fdca26\"],[1.0,\"#f0f921\"]]}],\"surface\":[{\"type\":\"surface\",\"colorbar\":{\"outlinewidth\":0,\"ticks\":\"\"},\"colorscale\":[[0.0,\"#0d0887\"],[0.1111111111111111,\"#46039f\"],[0.2222222222222222,\"#7201a8\"],[0.3333333333333333,\"#9c179e\"],[0.4444444444444444,\"#bd3786\"],[0.5555555555555556,\"#d8576b\"],[0.6666666666666666,\"#ed7953\"],[0.7777777777777778,\"#fb9f3a\"],[0.8888888888888888,\"#fdca26\"],[1.0,\"#f0f921\"]]}],\"mesh3d\":[{\"type\":\"mesh3d\",\"colorbar\":{\"outlinewidth\":0,\"ticks\":\"\"}}],\"scatter\":[{\"fillpattern\":{\"fillmode\":\"overlay\",\"size\":10,\"solidity\":0.2},\"type\":\"scatter\"}],\"parcoords\":[{\"type\":\"parcoords\",\"line\":{\"colorbar\":{\"outlinewidth\":0,\"ticks\":\"\"}}}],\"scatterpolargl\":[{\"type\":\"scatterpolargl\",\"marker\":{\"colorbar\":{\"outlinewidth\":0,\"ticks\":\"\"}}}],\"bar\":[{\"error_x\":{\"color\":\"#2a3f5f\"},\"error_y\":{\"color\":\"#2a3f5f\"},\"marker\":{\"line\":{\"color\":\"#E5ECF6\",\"width\":0.5},\"pattern\":{\"fillmode\":\"overlay\",\"size\":10,\"solidity\":0.2}},\"type\":\"bar\"}],\"scattergeo\":[{\"type\":\"scattergeo\",\"marker\":{\"colorbar\":{\"outlinewidth\":0,\"ticks\":\"\"}}}],\"scatterpolar\":[{\"type\":\"scatterpolar\",\"marker\":{\"colorbar\":{\"outlinewidth\":0,\"ticks\":\"\"}}}],\"histogram\":[{\"marker\":{\"pattern\":{\"fillmode\":\"overlay\",\"size\":10,\"solidity\":0.2}},\"type\":\"histogram\"}],\"scattergl\":[{\"type\":\"scattergl\",\"marker\":{\"colorbar\":{\"outlinewidth\":0,\"ticks\":\"\"}}}],\"scatter3d\":[{\"type\":\"scatter3d\",\"line\":{\"colorbar\":{\"outlinewidth\":0,\"ticks\":\"\"}},\"marker\":{\"colorbar\":{\"outlinewidth\":0,\"ticks\":\"\"}}}],\"scattermapbox\":[{\"type\":\"scattermapbox\",\"marker\":{\"colorbar\":{\"outlinewidth\":0,\"ticks\":\"\"}}}],\"scatterternary\":[{\"type\":\"scatterternary\",\"marker\":{\"colorbar\":{\"outlinewidth\":0,\"ticks\":\"\"}}}],\"scattercarpet\":[{\"type\":\"scattercarpet\",\"marker\":{\"colorbar\":{\"outlinewidth\":0,\"ticks\":\"\"}}}],\"carpet\":[{\"aaxis\":{\"endlinecolor\":\"#2a3f5f\",\"gridcolor\":\"white\",\"linecolor\":\"white\",\"minorgridcolor\":\"white\",\"startlinecolor\":\"#2a3f5f\"},\"baxis\":{\"endlinecolor\":\"#2a3f5f\",\"gridcolor\":\"white\",\"linecolor\":\"white\",\"minorgridcolor\":\"white\",\"startlinecolor\":\"#2a3f5f\"},\"type\":\"carpet\"}],\"table\":[{\"cells\":{\"fill\":{\"color\":\"#EBF0F8\"},\"line\":{\"color\":\"white\"}},\"header\":{\"fill\":{\"color\":\"#C8D4E3\"},\"line\":{\"color\":\"white\"}},\"type\":\"table\"}],\"barpolar\":[{\"marker\":{\"line\":{\"color\":\"#E5ECF6\",\"width\":0.5},\"pattern\":{\"fillmode\":\"overlay\",\"size\":10,\"solidity\":0.2}},\"type\":\"barpolar\"}],\"pie\":[{\"automargin\":true,\"type\":\"pie\"}]},\"layout\":{\"autotypenumbers\":\"strict\",\"colorway\":[\"#636efa\",\"#EF553B\",\"#00cc96\",\"#ab63fa\",\"#FFA15A\",\"#19d3f3\",\"#FF6692\",\"#B6E880\",\"#FF97FF\",\"#FECB52\"],\"font\":{\"color\":\"#2a3f5f\"},\"hovermode\":\"closest\",\"hoverlabel\":{\"align\":\"left\"},\"paper_bgcolor\":\"white\",\"plot_bgcolor\":\"#E5ECF6\",\"polar\":{\"bgcolor\":\"#E5ECF6\",\"angularaxis\":{\"gridcolor\":\"white\",\"linecolor\":\"white\",\"ticks\":\"\"},\"radialaxis\":{\"gridcolor\":\"white\",\"linecolor\":\"white\",\"ticks\":\"\"}},\"ternary\":{\"bgcolor\":\"#E5ECF6\",\"aaxis\":{\"gridcolor\":\"white\",\"linecolor\":\"white\",\"ticks\":\"\"},\"baxis\":{\"gridcolor\":\"white\",\"linecolor\":\"white\",\"ticks\":\"\"},\"caxis\":{\"gridcolor\":\"white\",\"linecolor\":\"white\",\"ticks\":\"\"}},\"coloraxis\":{\"colorbar\":{\"outlinewidth\":0,\"ticks\":\"\"}},\"colorscale\":{\"sequential\":[[0.0,\"#0d0887\"],[0.1111111111111111,\"#46039f\"],[0.2222222222222222,\"#7201a8\"],[0.3333333333333333,\"#9c179e\"],[0.4444444444444444,\"#bd3786\"],[0.5555555555555556,\"#d8576b\"],[0.6666666666666666,\"#ed7953\"],[0.7777777777777778,\"#fb9f3a\"],[0.8888888888888888,\"#fdca26\"],[1.0,\"#f0f921\"]],\"sequentialminus\":[[0.0,\"#0d0887\"],[0.1111111111111111,\"#46039f\"],[0.2222222222222222,\"#7201a8\"],[0.3333333333333333,\"#9c179e\"],[0.4444444444444444,\"#bd3786\"],[0.5555555555555556,\"#d8576b\"],[0.6666666666666666,\"#ed7953\"],[0.7777777777777778,\"#fb9f3a\"],[0.8888888888888888,\"#fdca26\"],[1.0,\"#f0f921\"]],\"diverging\":[[0,\"#8e0152\"],[0.1,\"#c51b7d\"],[0.2,\"#de77ae\"],[0.3,\"#f1b6da\"],[0.4,\"#fde0ef\"],[0.5,\"#f7f7f7\"],[0.6,\"#e6f5d0\"],[0.7,\"#b8e186\"],[0.8,\"#7fbc41\"],[0.9,\"#4d9221\"],[1,\"#276419\"]]},\"xaxis\":{\"gridcolor\":\"white\",\"linecolor\":\"white\",\"ticks\":\"\",\"title\":{\"standoff\":15},\"zerolinecolor\":\"white\",\"automargin\":true,\"zerolinewidth\":2},\"yaxis\":{\"gridcolor\":\"white\",\"linecolor\":\"white\",\"ticks\":\"\",\"title\":{\"standoff\":15},\"zerolinecolor\":\"white\",\"automargin\":true,\"zerolinewidth\":2},\"scene\":{\"xaxis\":{\"backgroundcolor\":\"#E5ECF6\",\"gridcolor\":\"white\",\"linecolor\":\"white\",\"showbackground\":true,\"ticks\":\"\",\"zerolinecolor\":\"white\",\"gridwidth\":2},\"yaxis\":{\"backgroundcolor\":\"#E5ECF6\",\"gridcolor\":\"white\",\"linecolor\":\"white\",\"showbackground\":true,\"ticks\":\"\",\"zerolinecolor\":\"white\",\"gridwidth\":2},\"zaxis\":{\"backgroundcolor\":\"#E5ECF6\",\"gridcolor\":\"white\",\"linecolor\":\"white\",\"showbackground\":true,\"ticks\":\"\",\"zerolinecolor\":\"white\",\"gridwidth\":2}},\"shapedefaults\":{\"line\":{\"color\":\"#2a3f5f\"}},\"annotationdefaults\":{\"arrowcolor\":\"#2a3f5f\",\"arrowhead\":0,\"arrowwidth\":1},\"geo\":{\"bgcolor\":\"white\",\"landcolor\":\"#E5ECF6\",\"subunitcolor\":\"white\",\"showland\":true,\"showlakes\":true,\"lakecolor\":\"white\"},\"title\":{\"x\":0.05},\"mapbox\":{\"style\":\"light\"}}},\"xaxis\":{\"anchor\":\"y\",\"domain\":[0.0,1.0],\"title\":{\"text\":\"Fruits\"}},\"yaxis\":{\"anchor\":\"x\",\"domain\":[0.0,1.0],\"title\":{\"text\":\"Quantity\"}},\"legend\":{\"tracegroupgap\":0},\"title\":{\"text\":\"Fruit Quantity Bar Plot\"},\"barmode\":\"relative\"},                        {\"responsive\": true}                    ).then(function(){\n",
              "                            \n",
              "var gd = document.getElementById('25ce0c18-e014-4d1c-8539-617c4f41e920');\n",
              "var x = new MutationObserver(function (mutations, observer) {{\n",
              "        var display = window.getComputedStyle(gd).display;\n",
              "        if (!display || display === 'none') {{\n",
              "            console.log([gd, 'removed!']);\n",
              "            Plotly.purge(gd);\n",
              "            observer.disconnect();\n",
              "        }}\n",
              "}});\n",
              "\n",
              "// Listen for the removal of the full notebook cells\n",
              "var notebookContainer = gd.closest('#notebook-container');\n",
              "if (notebookContainer) {{\n",
              "    x.observe(notebookContainer, {childList: true});\n",
              "}}\n",
              "\n",
              "// Listen for the clearing of the current output cell\n",
              "var outputEl = gd.closest('.output');\n",
              "if (outputEl) {{\n",
              "    x.observe(outputEl, {childList: true});\n",
              "}}\n",
              "\n",
              "                        })                };                            </script>        </div>\n",
              "</body>\n",
              "</html>"
            ]
          },
          "metadata": {}
        }
      ]
    },
    {
      "cell_type": "markdown",
      "source": [
        "Q6.  Create a DataFrame and add a new column based on an existing column."
      ],
      "metadata": {
        "id": "lCyIOFHtyed4"
      }
    },
    {
      "cell_type": "code",
      "source": [
        "import pandas as pd\n",
        "\n",
        "# Step 1: Create a DataFrame\n",
        "data = {\n",
        "    'Name': ['Alice', 'Bob', 'Charlie'],\n",
        "    'Age': [25, 30, 35]\n",
        "}\n",
        "\n",
        "df = pd.DataFrame(data)\n",
        "\n",
        "# Step 2: Add a new column 'Age in 5 Years' based on 'Age'\n",
        "df['Age in 5 Years'] = df['Age'] + 5\n",
        "\n",
        "print(df)\n"
      ],
      "metadata": {
        "colab": {
          "base_uri": "https://localhost:8080/"
        },
        "id": "4ht0_FuKyjud",
        "outputId": "1563114f-a2dc-4b72-8a5f-5ef24fdb3987"
      },
      "execution_count": 6,
      "outputs": [
        {
          "output_type": "stream",
          "name": "stdout",
          "text": [
            "      Name  Age  Age in 5 Years\n",
            "0    Alice   25              30\n",
            "1      Bob   30              35\n",
            "2  Charlie   35              40\n"
          ]
        }
      ]
    },
    {
      "cell_type": "markdown",
      "source": [
        "Q7.  Write a program to perform element-wise multiplication of two NumPy arrays."
      ],
      "metadata": {
        "id": "ur1JyY7VyszG"
      }
    },
    {
      "cell_type": "code",
      "source": [
        "import numpy as np\n",
        "\n",
        "# Define two arrays\n",
        "array1 = np.array([1, 2, 3, 4])\n",
        "array2 = np.array([5, 6, 7, 8])\n",
        "\n",
        "# Element-wise multiplication\n",
        "result = array1 * array2\n",
        "\n",
        "print(\"Array 1:\", array1)\n",
        "print(\"Array 2:\", array2)\n",
        "print(\"Element-wise multiplication result:\", result)\n"
      ],
      "metadata": {
        "colab": {
          "base_uri": "https://localhost:8080/"
        },
        "id": "yl0U5tX5yyar",
        "outputId": "12d72d92-9d51-47be-9fb9-be285a209d23"
      },
      "execution_count": 7,
      "outputs": [
        {
          "output_type": "stream",
          "name": "stdout",
          "text": [
            "Array 1: [1 2 3 4]\n",
            "Array 2: [5 6 7 8]\n",
            "Element-wise multiplication result: [ 5 12 21 32]\n"
          ]
        }
      ]
    },
    {
      "cell_type": "markdown",
      "source": [
        "Q8. Create a line plot with multiple lines using Matplotlib"
      ],
      "metadata": {
        "id": "exwQIDCYy6Go"
      }
    },
    {
      "cell_type": "code",
      "source": [
        "import matplotlib.pyplot as plt\n",
        "\n",
        "# Sample data\n",
        "x = [1, 2, 3, 4, 5]\n",
        "y1 = [2, 3, 5, 7, 11]\n",
        "y2 = [1, 4, 6, 8, 10]\n",
        "y3 = [5, 7, 9, 11, 13]\n",
        "\n",
        "# Create the plot\n",
        "plt.plot(x, y1, label='Line 1', marker='o')\n",
        "plt.plot(x, y2, label='Line 2', marker='s')\n",
        "plt.plot(x, y3, label='Line 3', marker='^')\n",
        "\n",
        "# Add title and labels\n",
        "plt.title('Multiple Line Plot Example')\n",
        "plt.xlabel('X-axis')\n",
        "plt.ylabel('Y-axis')\n",
        "\n",
        "# Show legend\n",
        "plt.legend()\n",
        "\n",
        "# Display the plot\n",
        "plt.show()\n"
      ],
      "metadata": {
        "colab": {
          "base_uri": "https://localhost:8080/",
          "height": 472
        },
        "id": "1ANbDbArzFV9",
        "outputId": "ff18dc28-26aa-48b8-f919-d0fa21686ba5"
      },
      "execution_count": 8,
      "outputs": [
        {
          "output_type": "display_data",
          "data": {
            "text/plain": [
              "<Figure size 640x480 with 1 Axes>"
            ],
            "image/png": "[encoded data removed]"
          },
          "metadata": {}
        }
      ]
    },
    {
      "cell_type": "markdown",
      "source": [
        "Q9. Generate a Pandas DataFrame and filter rows where a column value is greater than a threshold."
      ],
      "metadata": {
        "id": "YfFSVA_BzVTJ"
      }
    },
    {
      "cell_type": "code",
      "source": [
        "import pandas as pd\n",
        "\n",
        "# Create a sample DataFrame\n",
        "data = {\n",
        "    'Name': ['Alice', 'Bob', 'Charlie', 'David'],\n",
        "    'Age': [25, 30, 35, 28],\n",
        "    'Salary': [50000, 60000, 70000, 65000]\n",
        "}\n",
        "\n",
        "df = pd.DataFrame(data)\n",
        "\n",
        "# Define the threshold\n",
        "age_threshold = 28\n",
        "\n",
        "# Filter rows where 'Age' is greater than the threshold\n",
        "filtered_df = df[df['Age'] > age_threshold]\n",
        "\n",
        "print(filtered_df)\n"
      ],
      "metadata": {
        "colab": {
          "base_uri": "https://localhost:8080/"
        },
        "id": "f1P2EZTEzb48",
        "outputId": "eb96e2b4-17f8-4ebd-916d-d8a9f9ae4e98"
      },
      "execution_count": 9,
      "outputs": [
        {
          "output_type": "stream",
          "name": "stdout",
          "text": [
            "      Name  Age  Salary\n",
            "1      Bob   30   60000\n",
            "2  Charlie   35   70000\n"
          ]
        }
      ]
    },
    {
      "cell_type": "markdown",
      "source": [
        "Q10. Create a histogram using Seaborn to visualize a distribution."
      ],
      "metadata": {
        "id": "xEDN4zyhzjvM"
      }
    },
    {
      "cell_type": "code",
      "source": [
        "import seaborn as sns\n",
        "import matplotlib.pyplot as plt\n",
        "\n",
        "# Sample data\n",
        "data = [12, 15, 13, 15, 16, 18, 20, 21, 22, 19, 18, 17, 16, 15, 14, 13, 12, 11]\n",
        "\n",
        "# Create histogram\n",
        "sns.histplot(data, bins=8, kde=False, color='skyblue')\n",
        "\n",
        "# Add title and labels\n",
        "plt.title('Histogram of Sample Data')\n",
        "plt.xlabel('Value')\n",
        "plt.ylabel('Frequency')\n",
        "\n",
        "# Show plot\n",
        "plt.show()\n"
      ],
      "metadata": {
        "colab": {
          "base_uri": "https://localhost:8080/",
          "height": 472
        },
        "id": "7f7REKC5zo38",
        "outputId": "5c382e07-6cfa-4631-b347-a94e66e2553b"
      },
      "execution_count": 10,
      "outputs": [
        {
          "output_type": "display_data",
          "data": {
            "text/plain": [
              "<Figure size 640x480 with 1 Axes>"
            ],
            "image/png": "[encoded data removed]"
          },
          "metadata": {}
        }
      ]
    },
    {
      "cell_type": "markdown",
      "source": [
        "Q11. Perform matrix multiplication using NumPy.\n",
        "\n"
      ],
      "metadata": {
        "id": "4rDZpd7zzvky"
      }
    },
    {
      "cell_type": "code",
      "source": [
        "import numpy as np\n",
        "\n",
        "# Define two matrices (2D arrays)\n",
        "A = np.array([[1, 2],\n",
        "              [3, 4]])\n",
        "\n",
        "B = np.array([[5, 6],\n",
        "              [7, 8]])\n",
        "\n",
        "# Perform matrix multiplication\n",
        "result = np.dot(A, B)\n",
        "# Alternatively: result = A @ B (Python 3.5+)\n",
        "\n",
        "print(\"Matrix A:\\n\", A)\n",
        "print(\"Matrix B:\\n\", B)\n",
        "print(\"Matrix Multiplication Result:\\n\", result)\n"
      ],
      "metadata": {
        "colab": {
          "base_uri": "https://localhost:8080/"
        },
        "id": "TfE4VQvH0Ps3",
        "outputId": "2cb8aa8e-3d5e-4f4a-8911-185e5656fca6"
      },
      "execution_count": 12,
      "outputs": [
        {
          "output_type": "stream",
          "name": "stdout",
          "text": [
            "Matrix A:\n",
            " [[1 2]\n",
            " [3 4]]\n",
            "Matrix B:\n",
            " [[5 6]\n",
            " [7 8]]\n",
            "Matrix Multiplication Result:\n",
            " [[19 22]\n",
            " [43 50]]\n"
          ]
        }
      ]
    },
    {
      "cell_type": "markdown",
      "source": [
        "Q12.  Use Pandas to load a CSV file and display its first 5 rows."
      ],
      "metadata": {
        "id": "iha0C43M0Y-5"
      }
    },
    {
      "cell_type": "code",
      "source": [
        "import pandas as pd\n",
        "\n",
        "# Load the CSV file\n",
        "df = pd.read_csv('Iris.csv')  # Replace with your actual file path\n",
        "\n",
        "# Display the first 5 rows\n",
        "print(df.head())\n"
      ],
      "metadata": {
        "colab": {
          "base_uri": "https://localhost:8080/"
        },
        "id": "lu5owIar0gdU",
        "outputId": "7c582056-2820-4d48-dcf2-c54fa5d894a7"
      },
      "execution_count": 14,
      "outputs": [
        {
          "output_type": "stream",
          "name": "stdout",
          "text": [
            "   Id  SepalLengthCm  SepalWidthCm  PetalLengthCm  PetalWidthCm      Species\n",
            "0   1            5.1           3.5            1.4           0.2  Iris-setosa\n",
            "1   2            4.9           3.0            1.4           0.2  Iris-setosa\n",
            "2   3            4.7           3.2            1.3           0.2  Iris-setosa\n",
            "3   4            4.6           3.1            1.5           0.2  Iris-setosa\n",
            "4   5            5.0           3.6            1.4           0.2  Iris-setosa\n"
          ]
        }
      ]
    },
    {
      "cell_type": "markdown",
      "source": [
        "Q13.  Create a 3D scatter plot using Plotly."
      ],
      "metadata": {
        "id": "6sqtyZeJ2MIq"
      }
    },
    {
      "cell_type": "code",
      "source": [
        "import plotly.express as px\n",
        "import pandas as pd\n",
        "\n",
        "# Sample data\n",
        "data = {\n",
        "    'X': [1, 2, 3, 4, 5],\n",
        "    'Y': [10, 11, 12, 13, 14],\n",
        "    'Z': [5, 6, 7, 8, 9],\n",
        "    'Label': ['A', 'B', 'C', 'D', 'E']\n",
        "}\n",
        "\n",
        "df = pd.DataFrame(data)\n",
        "\n",
        "# Create 3D scatter plot\n",
        "fig = px.scatter_3d(df, x='X', y='Y', z='Z', color='Label',\n",
        "                    title='3D Scatter Plot Example')\n",
        "\n",
        "# Show plot\n",
        "fig.show()\n"
      ],
      "metadata": {
        "colab": {
          "base_uri": "https://localhost:8080/",
          "height": 542
        },
        "id": "SGbau-_z2R8d",
        "outputId": "7c137c51-27f4-4418-99a8-a6877d4f5ab2"
      },
      "execution_count": 16,
      "outputs": [
        {
          "output_type": "display_data",
          "data": {
            "text/html": [
              "<html>\n",
              "<head><meta charset=\"utf-8\" /></head>\n",
              "<body>\n",
              "    <div>            <script src=\"https://cdnjs.cloudflare.com/ajax/libs/mathjax/2.7.5/MathJax.js?config=TeX-AMS-MML_SVG\"></script><script type=\"text/javascript\">if (window.MathJax && window.MathJax.Hub && window.MathJax.Hub.Config) {window.MathJax.Hub.Config({SVG: {font: \"STIX-Web\"}});}</script>                <script type=\"text/javascript\">window.PlotlyConfig = {MathJaxConfig: 'local'};</script>\n",
              "        <script charset=\"utf-8\" src=\"https://cdn.plot.ly/plotly-2.35.2.min.js\"></script>                <div id=\"ddcf7560-42ab-4d9e-8df8-b1736a86f9b9\" class=\"plotly-graph-div\" style=\"height:525px; width:100%;\"></div>            <script type=\"text/javascript\">                                    window.PLOTLYENV=window.PLOTLYENV || {};                                    if (document.getElementById(\"ddcf7560-42ab-4d9e-8df8-b1736a86f9b9\")) {                    Plotly.newPlot(                        \"ddcf7560-42ab-4d9e-8df8-b1736a86f9b9\",                        [{\"hovertemplate\":\"Label=A\\u003cbr\\u003eX=%{x}\\u003cbr\\u003eY=%{y}\\u003cbr\\u003eZ=%{z}\\u003cextra\\u003e\\u003c\\u002fextra\\u003e\",\"legendgroup\":\"A\",\"marker\":{\"color\":\"#636efa\",\"symbol\":\"circle\"},\"mode\":\"markers\",\"name\":\"A\",\"scene\":\"scene\",\"showlegend\":true,\"x\":[1],\"y\":[10],\"z\":[5],\"type\":\"scatter3d\"},{\"hovertemplate\":\"Label=B\\u003cbr\\u003eX=%{x}\\u003cbr\\u003eY=%{y}\\u003cbr\\u003eZ=%{z}\\u003cextra\\u003e\\u003c\\u002fextra\\u003e\",\"legendgroup\":\"B\",\"marker\":{\"color\":\"#EF553B\",\"symbol\":\"circle\"},\"mode\":\"markers\",\"name\":\"B\",\"scene\":\"scene\",\"showlegend\":true,\"x\":[2],\"y\":[11],\"z\":[6],\"type\":\"scatter3d\"},{\"hovertemplate\":\"Label=C\\u003cbr\\u003eX=%{x}\\u003cbr\\u003eY=%{y}\\u003cbr\\u003eZ=%{z}\\u003cextra\\u003e\\u003c\\u002fextra\\u003e\",\"legendgroup\":\"C\",\"marker\":{\"color\":\"#00cc96\",\"symbol\":\"circle\"},\"mode\":\"markers\",\"name\":\"C\",\"scene\":\"scene\",\"showlegend\":true,\"x\":[3],\"y\":[12],\"z\":[7],\"type\":\"scatter3d\"},{\"hovertemplate\":\"Label=D\\u003cbr\\u003eX=%{x}\\u003cbr\\u003eY=%{y}\\u003cbr\\u003eZ=%{z}\\u003cextra\\u003e\\u003c\\u002fextra\\u003e\",\"legendgroup\":\"D\",\"marker\":{\"color\":\"#ab63fa\",\"symbol\":\"circle\"},\"mode\":\"markers\",\"name\":\"D\",\"scene\":\"scene\",\"showlegend\":true,\"x\":[4],\"y\":[13],\"z\":[8],\"type\":\"scatter3d\"},{\"hovertemplate\":\"Label=E\\u003cbr\\u003eX=%{x}\\u003cbr\\u003eY=%{y}\\u003cbr\\u003eZ=%{z}\\u003cextra\\u003e\\u003c\\u002fextra\\u003e\",\"legendgroup\":\"E\",\"marker\":{\"color\":\"#FFA15A\",\"symbol\":\"circle\"},\"mode\":\"markers\",\"name\":\"E\",\"scene\":\"scene\",\"showlegend\":true,\"x\":[5],\"y\":[14],\"z\":[9],\"type\":\"scatter3d\"}],                        {\"template\":{\"data\":{\"histogram2dcontour\":[{\"type\":\"histogram2dcontour\",\"colorbar\":{\"outlinewidth\":0,\"ticks\":\"\"},\"colorscale\":[[0.0,\"#0d0887\"],[0.1111111111111111,\"#46039f\"],[0.2222222222222222,\"#7201a8\"],[0.3333333333333333,\"#9c179e\"],[0.4444444444444444,\"#bd3786\"],[0.5555555555555556,\"#d8576b\"],[0.6666666666666666,\"#ed7953\"],[0.7777777777777778,\"#fb9f3a\"],[0.8888888888888888,\"#fdca26\"],[1.0,\"#f0f921\"]]}],\"choropleth\":[{\"type\":\"choropleth\",\"colorbar\":{\"outlinewidth\":0,\"ticks\":\"\"}}],\"histogram2d\":[{\"type\":\"histogram2d\",\"colorbar\":{\"outlinewidth\":0,\"ticks\":\"\"},\"colorscale\":[[0.0,\"#0d0887\"],[0.1111111111111111,\"#46039f\"],[0.2222222222222222,\"#7201a8\"],[0.3333333333333333,\"#9c179e\"],[0.4444444444444444,\"#bd3786\"],[0.5555555555555556,\"#d8576b\"],[0.6666666666666666,\"#ed7953\"],[0.7777777777777778,\"#fb9f3a\"],[0.8888888888888888,\"#fdca26\"],[1.0,\"#f0f921\"]]}],\"heatmap\":[{\"type\":\"heatmap\",\"colorbar\":{\"outlinewidth\":0,\"ticks\":\"\"},\"colorscale\":[[0.0,\"#0d0887\"],[0.1111111111111111,\"#46039f\"],[0.2222222222222222,\"#7201a8\"],[0.3333333333333333,\"#9c179e\"],[0.4444444444444444,\"#bd3786\"],[0.5555555555555556,\"#d8576b\"],[0.6666666666666666,\"#ed7953\"],[0.7777777777777778,\"#fb9f3a\"],[0.8888888888888888,\"#fdca26\"],[1.0,\"#f0f921\"]]}],\"heatmapgl\":[{\"type\":\"heatmapgl\",\"colorbar\":{\"outlinewidth\":0,\"ticks\":\"\"},\"colorscale\":[[0.0,\"#0d0887\"],[0.1111111111111111,\"#46039f\"],[0.2222222222222222,\"#7201a8\"],[0.3333333333333333,\"#9c179e\"],[0.4444444444444444,\"#bd3786\"],[0.5555555555555556,\"#d8576b\"],[0.6666666666666666,\"#ed7953\"],[0.7777777777777778,\"#fb9f3a\"],[0.8888888888888888,\"#fdca26\"],[1.0,\"#f0f921\"]]}],\"contourcarpet\":[{\"type\":\"contourcarpet\",\"colorbar\":{\"outlinewidth\":0,\"ticks\":\"\"}}],\"contour\":[{\"type\":\"contour\",\"colorbar\":{\"outlinewidth\":0,\"ticks\":\"\"},\"colorscale\":[[0.0,\"#0d0887\"],[0.1111111111111111,\"#46039f\"],[0.2222222222222222,\"#7201a8\"],[0.3333333333333333,\"#9c179e\"],[0.4444444444444444,\"#bd3786\"],[0.5555555555555556,\"#d8576b\"],[0.6666666666666666,\"#ed7953\"],[0.7777777777777778,\"#fb9f3a\"],[0.8888888888888888,\"#fdca26\"],[1.0,\"#f0f921\"]]}],\"surface\":[{\"type\":\"surface\",\"colorbar\":{\"outlinewidth\":0,\"ticks\":\"\"},\"colorscale\":[[0.0,\"#0d0887\"],[0.1111111111111111,\"#46039f\"],[0.2222222222222222,\"#7201a8\"],[0.3333333333333333,\"#9c179e\"],[0.4444444444444444,\"#bd3786\"],[0.5555555555555556,\"#d8576b\"],[0.6666666666666666,\"#ed7953\"],[0.7777777777777778,\"#fb9f3a\"],[0.8888888888888888,\"#fdca26\"],[1.0,\"#f0f921\"]]}],\"mesh3d\":[{\"type\":\"mesh3d\",\"colorbar\":{\"outlinewidth\":0,\"ticks\":\"\"}}],\"scatter\":[{\"fillpattern\":{\"fillmode\":\"overlay\",\"size\":10,\"solidity\":0.2},\"type\":\"scatter\"}],\"parcoords\":[{\"type\":\"parcoords\",\"line\":{\"colorbar\":{\"outlinewidth\":0,\"ticks\":\"\"}}}],\"scatterpolargl\":[{\"type\":\"scatterpolargl\",\"marker\":{\"colorbar\":{\"outlinewidth\":0,\"ticks\":\"\"}}}],\"bar\":[{\"error_x\":{\"color\":\"#2a3f5f\"},\"error_y\":{\"color\":\"#2a3f5f\"},\"marker\":{\"line\":{\"color\":\"#E5ECF6\",\"width\":0.5},\"pattern\":{\"fillmode\":\"overlay\",\"size\":10,\"solidity\":0.2}},\"type\":\"bar\"}],\"scattergeo\":[{\"type\":\"scattergeo\",\"marker\":{\"colorbar\":{\"outlinewidth\":0,\"ticks\":\"\"}}}],\"scatterpolar\":[{\"type\":\"scatterpolar\",\"marker\":{\"colorbar\":{\"outlinewidth\":0,\"ticks\":\"\"}}}],\"histogram\":[{\"marker\":{\"pattern\":{\"fillmode\":\"overlay\",\"size\":10,\"solidity\":0.2}},\"type\":\"histogram\"}],\"scattergl\":[{\"type\":\"scattergl\",\"marker\":{\"colorbar\":{\"outlinewidth\":0,\"ticks\":\"\"}}}],\"scatter3d\":[{\"type\":\"scatter3d\",\"line\":{\"colorbar\":{\"outlinewidth\":0,\"ticks\":\"\"}},\"marker\":{\"colorbar\":{\"outlinewidth\":0,\"ticks\":\"\"}}}],\"scattermapbox\":[{\"type\":\"scattermapbox\",\"marker\":{\"colorbar\":{\"outlinewidth\":0,\"ticks\":\"\"}}}],\"scatterternary\":[{\"type\":\"scatterternary\",\"marker\":{\"colorbar\":{\"outlinewidth\":0,\"ticks\":\"\"}}}],\"scattercarpet\":[{\"type\":\"scattercarpet\",\"marker\":{\"colorbar\":{\"outlinewidth\":0,\"ticks\":\"\"}}}],\"carpet\":[{\"aaxis\":{\"endlinecolor\":\"#2a3f5f\",\"gridcolor\":\"white\",\"linecolor\":\"white\",\"minorgridcolor\":\"white\",\"startlinecolor\":\"#2a3f5f\"},\"baxis\":{\"endlinecolor\":\"#2a3f5f\",\"gridcolor\":\"white\",\"linecolor\":\"white\",\"minorgridcolor\":\"white\",\"startlinecolor\":\"#2a3f5f\"},\"type\":\"carpet\"}],\"table\":[{\"cells\":{\"fill\":{\"color\":\"#EBF0F8\"},\"line\":{\"color\":\"white\"}},\"header\":{\"fill\":{\"color\":\"#C8D4E3\"},\"line\":{\"color\":\"white\"}},\"type\":\"table\"}],\"barpolar\":[{\"marker\":{\"line\":{\"color\":\"#E5ECF6\",\"width\":0.5},\"pattern\":{\"fillmode\":\"overlay\",\"size\":10,\"solidity\":0.2}},\"type\":\"barpolar\"}],\"pie\":[{\"automargin\":true,\"type\":\"pie\"}]},\"layout\":{\"autotypenumbers\":\"strict\",\"colorway\":[\"#636efa\",\"#EF553B\",\"#00cc96\",\"#ab63fa\",\"#FFA15A\",\"#19d3f3\",\"#FF6692\",\"#B6E880\",\"#FF97FF\",\"#FECB52\"],\"font\":{\"color\":\"#2a3f5f\"},\"hovermode\":\"closest\",\"hoverlabel\":{\"align\":\"left\"},\"paper_bgcolor\":\"white\",\"plot_bgcolor\":\"#E5ECF6\",\"polar\":{\"bgcolor\":\"#E5ECF6\",\"angularaxis\":{\"gridcolor\":\"white\",\"linecolor\":\"white\",\"ticks\":\"\"},\"radialaxis\":{\"gridcolor\":\"white\",\"linecolor\":\"white\",\"ticks\":\"\"}},\"ternary\":{\"bgcolor\":\"#E5ECF6\",\"aaxis\":{\"gridcolor\":\"white\",\"linecolor\":\"white\",\"ticks\":\"\"},\"baxis\":{\"gridcolor\":\"white\",\"linecolor\":\"white\",\"ticks\":\"\"},\"caxis\":{\"gridcolor\":\"white\",\"linecolor\":\"white\",\"ticks\":\"\"}},\"coloraxis\":{\"colorbar\":{\"outlinewidth\":0,\"ticks\":\"\"}},\"colorscale\":{\"sequential\":[[0.0,\"#0d0887\"],[0.1111111111111111,\"#46039f\"],[0.2222222222222222,\"#7201a8\"],[0.3333333333333333,\"#9c179e\"],[0.4444444444444444,\"#bd3786\"],[0.5555555555555556,\"#d8576b\"],[0.6666666666666666,\"#ed7953\"],[0.7777777777777778,\"#fb9f3a\"],[0.8888888888888888,\"#fdca26\"],[1.0,\"#f0f921\"]],\"sequentialminus\":[[0.0,\"#0d0887\"],[0.1111111111111111,\"#46039f\"],[0.2222222222222222,\"#7201a8\"],[0.3333333333333333,\"#9c179e\"],[0.4444444444444444,\"#bd3786\"],[0.5555555555555556,\"#d8576b\"],[0.6666666666666666,\"#ed7953\"],[0.7777777777777778,\"#fb9f3a\"],[0.8888888888888888,\"#fdca26\"],[1.0,\"#f0f921\"]],\"diverging\":[[0,\"#8e0152\"],[0.1,\"#c51b7d\"],[0.2,\"#de77ae\"],[0.3,\"#f1b6da\"],[0.4,\"#fde0ef\"],[0.5,\"#f7f7f7\"],[0.6,\"#e6f5d0\"],[0.7,\"#b8e186\"],[0.8,\"#7fbc41\"],[0.9,\"#4d9221\"],[1,\"#276419\"]]},\"xaxis\":{\"gridcolor\":\"white\",\"linecolor\":\"white\",\"ticks\":\"\",\"title\":{\"standoff\":15},\"zerolinecolor\":\"white\",\"automargin\":true,\"zerolinewidth\":2},\"yaxis\":{\"gridcolor\":\"white\",\"linecolor\":\"white\",\"ticks\":\"\",\"title\":{\"standoff\":15},\"zerolinecolor\":\"white\",\"automargin\":true,\"zerolinewidth\":2},\"scene\":{\"xaxis\":{\"backgroundcolor\":\"#E5ECF6\",\"gridcolor\":\"white\",\"linecolor\":\"white\",\"showbackground\":true,\"ticks\":\"\",\"zerolinecolor\":\"white\",\"gridwidth\":2},\"yaxis\":{\"backgroundcolor\":\"#E5ECF6\",\"gridcolor\":\"white\",\"linecolor\":\"white\",\"showbackground\":true,\"ticks\":\"\",\"zerolinecolor\":\"white\",\"gridwidth\":2},\"zaxis\":{\"backgroundcolor\":\"#E5ECF6\",\"gridcolor\":\"white\",\"linecolor\":\"white\",\"showbackground\":true,\"ticks\":\"\",\"zerolinecolor\":\"white\",\"gridwidth\":2}},\"shapedefaults\":{\"line\":{\"color\":\"#2a3f5f\"}},\"annotationdefaults\":{\"arrowcolor\":\"#2a3f5f\",\"arrowhead\":0,\"arrowwidth\":1},\"geo\":{\"bgcolor\":\"white\",\"landcolor\":\"#E5ECF6\",\"subunitcolor\":\"white\",\"showland\":true,\"showlakes\":true,\"lakecolor\":\"white\"},\"title\":{\"x\":0.05},\"mapbox\":{\"style\":\"light\"}}},\"scene\":{\"domain\":{\"x\":[0.0,1.0],\"y\":[0.0,1.0]},\"xaxis\":{\"title\":{\"text\":\"X\"}},\"yaxis\":{\"title\":{\"text\":\"Y\"}},\"zaxis\":{\"title\":{\"text\":\"Z\"}}},\"legend\":{\"title\":{\"text\":\"Label\"},\"tracegroupgap\":0},\"title\":{\"text\":\"3D Scatter Plot Example\"}},                        {\"responsive\": true}                    ).then(function(){\n",
              "                            \n",
              "var gd = document.getElementById('ddcf7560-42ab-4d9e-8df8-b1736a86f9b9');\n",
              "var x = new MutationObserver(function (mutations, observer) {{\n",
              "        var display = window.getComputedStyle(gd).display;\n",
              "        if (!display || display === 'none') {{\n",
              "            console.log([gd, 'removed!']);\n",
              "            Plotly.purge(gd);\n",
              "            observer.disconnect();\n",
              "        }}\n",
              "}});\n",
              "\n",
              "// Listen for the removal of the full notebook cells\n",
              "var notebookContainer = gd.closest('#notebook-container');\n",
              "if (notebookContainer) {{\n",
              "    x.observe(notebookContainer, {childList: true});\n",
              "}}\n",
              "\n",
              "// Listen for the clearing of the current output cell\n",
              "var outputEl = gd.closest('.output');\n",
              "if (outputEl) {{\n",
              "    x.observe(outputEl, {childList: true});\n",
              "}}\n",
              "\n",
              "                        })                };                            </script>        </div>\n",
              "</body>\n",
              "</html>"
            ]
          },
          "metadata": {}
        }
      ]
    }
  ]
}